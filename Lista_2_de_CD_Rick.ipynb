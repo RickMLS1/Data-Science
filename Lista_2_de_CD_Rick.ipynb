{
  "nbformat": 4,
  "nbformat_minor": 0,
  "metadata": {
    "colab": {
      "provenance": [],
      "collapsed_sections": [],
      "include_colab_link": true
    },
    "kernelspec": {
      "name": "python3",
      "display_name": "Python 3"
    },
    "language_info": {
      "name": "python"
    }
  },
  "cells": [
    {
      "cell_type": "markdown",
      "metadata": {
        "id": "view-in-github",
        "colab_type": "text"
      },
      "source": [
        "<a href=\"https://colab.research.google.com/github/RickMLS1/Data-Science/blob/main/Lista_2_de_CD_Rick.ipynb\" target=\"_parent\"><img src=\"https://colab.research.google.com/assets/colab-badge.svg\" alt=\"Open In Colab\"/></a>"
      ]
    },
    {
      "cell_type": "markdown",
      "source": [
        "## Questão 1. (1 ponto)"
      ],
      "metadata": {
        "id": "jJILxIu5-jne"
      }
    },
    {
      "cell_type": "markdown",
      "source": [
        "Nesta lista utilizaremos um dataset conhecido, o Pima Indians Diabetes Dataset.\n",
        "\n"
      ],
      "metadata": {
        "id": "JrZhcwmZ-0O_"
      }
    },
    {
      "cell_type": "code",
      "execution_count": null,
      "metadata": {
        "colab": {
          "base_uri": "https://localhost:8080/",
          "height": 250
        },
        "id": "BNzDM6er-bti",
        "outputId": "29edf638-2e05-4172-e60d-8050fe59c128"
      },
      "outputs": [
        {
          "output_type": "execute_result",
          "data": {
            "text/plain": [
              "   Pregnancies  Glucose  BloodPressure  SkinThickness  Insulin   BMI  \\\n",
              "0            6      148             72             35        0  33.6   \n",
              "1            1       85             66             29        0  26.6   \n",
              "2            8      183             64              0        0  23.3   \n",
              "3            1       89             66             23       94  28.1   \n",
              "4            0      137             40             35      168  43.1   \n",
              "\n",
              "   DiabetesPedigreeFunction  Age  Outcome  \n",
              "0                     0.627   50        1  \n",
              "1                     0.351   31        0  \n",
              "2                     0.672   32        1  \n",
              "3                     0.167   21        0  \n",
              "4                     2.288   33        1  "
            ],
            "text/html": [
              "\n",
              "  <div id=\"df-8dd63135-fc78-4303-8cbb-051fdc83108d\">\n",
              "    <div class=\"colab-df-container\">\n",
              "      <div>\n",
              "<style scoped>\n",
              "    .dataframe tbody tr th:only-of-type {\n",
              "        vertical-align: middle;\n",
              "    }\n",
              "\n",
              "    .dataframe tbody tr th {\n",
              "        vertical-align: top;\n",
              "    }\n",
              "\n",
              "    .dataframe thead th {\n",
              "        text-align: right;\n",
              "    }\n",
              "</style>\n",
              "<table border=\"1\" class=\"dataframe\">\n",
              "  <thead>\n",
              "    <tr style=\"text-align: right;\">\n",
              "      <th></th>\n",
              "      <th>Pregnancies</th>\n",
              "      <th>Glucose</th>\n",
              "      <th>BloodPressure</th>\n",
              "      <th>SkinThickness</th>\n",
              "      <th>Insulin</th>\n",
              "      <th>BMI</th>\n",
              "      <th>DiabetesPedigreeFunction</th>\n",
              "      <th>Age</th>\n",
              "      <th>Outcome</th>\n",
              "    </tr>\n",
              "  </thead>\n",
              "  <tbody>\n",
              "    <tr>\n",
              "      <th>0</th>\n",
              "      <td>6</td>\n",
              "      <td>148</td>\n",
              "      <td>72</td>\n",
              "      <td>35</td>\n",
              "      <td>0</td>\n",
              "      <td>33.6</td>\n",
              "      <td>0.627</td>\n",
              "      <td>50</td>\n",
              "      <td>1</td>\n",
              "    </tr>\n",
              "    <tr>\n",
              "      <th>1</th>\n",
              "      <td>1</td>\n",
              "      <td>85</td>\n",
              "      <td>66</td>\n",
              "      <td>29</td>\n",
              "      <td>0</td>\n",
              "      <td>26.6</td>\n",
              "      <td>0.351</td>\n",
              "      <td>31</td>\n",
              "      <td>0</td>\n",
              "    </tr>\n",
              "    <tr>\n",
              "      <th>2</th>\n",
              "      <td>8</td>\n",
              "      <td>183</td>\n",
              "      <td>64</td>\n",
              "      <td>0</td>\n",
              "      <td>0</td>\n",
              "      <td>23.3</td>\n",
              "      <td>0.672</td>\n",
              "      <td>32</td>\n",
              "      <td>1</td>\n",
              "    </tr>\n",
              "    <tr>\n",
              "      <th>3</th>\n",
              "      <td>1</td>\n",
              "      <td>89</td>\n",
              "      <td>66</td>\n",
              "      <td>23</td>\n",
              "      <td>94</td>\n",
              "      <td>28.1</td>\n",
              "      <td>0.167</td>\n",
              "      <td>21</td>\n",
              "      <td>0</td>\n",
              "    </tr>\n",
              "    <tr>\n",
              "      <th>4</th>\n",
              "      <td>0</td>\n",
              "      <td>137</td>\n",
              "      <td>40</td>\n",
              "      <td>35</td>\n",
              "      <td>168</td>\n",
              "      <td>43.1</td>\n",
              "      <td>2.288</td>\n",
              "      <td>33</td>\n",
              "      <td>1</td>\n",
              "    </tr>\n",
              "  </tbody>\n",
              "</table>\n",
              "</div>\n",
              "      <button class=\"colab-df-convert\" onclick=\"convertToInteractive('df-8dd63135-fc78-4303-8cbb-051fdc83108d')\"\n",
              "              title=\"Convert this dataframe to an interactive table.\"\n",
              "              style=\"display:none;\">\n",
              "        \n",
              "  <svg xmlns=\"http://www.w3.org/2000/svg\" height=\"24px\"viewBox=\"0 0 24 24\"\n",
              "       width=\"24px\">\n",
              "    <path d=\"M0 0h24v24H0V0z\" fill=\"none\"/>\n",
              "    <path d=\"M18.56 5.44l.94 2.06.94-2.06 2.06-.94-2.06-.94-.94-2.06-.94 2.06-2.06.94zm-11 1L8.5 8.5l.94-2.06 2.06-.94-2.06-.94L8.5 2.5l-.94 2.06-2.06.94zm10 10l.94 2.06.94-2.06 2.06-.94-2.06-.94-.94-2.06-.94 2.06-2.06.94z\"/><path d=\"M17.41 7.96l-1.37-1.37c-.4-.4-.92-.59-1.43-.59-.52 0-1.04.2-1.43.59L10.3 9.45l-7.72 7.72c-.78.78-.78 2.05 0 2.83L4 21.41c.39.39.9.59 1.41.59.51 0 1.02-.2 1.41-.59l7.78-7.78 2.81-2.81c.8-.78.8-2.07 0-2.86zM5.41 20L4 18.59l7.72-7.72 1.47 1.35L5.41 20z\"/>\n",
              "  </svg>\n",
              "      </button>\n",
              "      \n",
              "  <style>\n",
              "    .colab-df-container {\n",
              "      display:flex;\n",
              "      flex-wrap:wrap;\n",
              "      gap: 12px;\n",
              "    }\n",
              "\n",
              "    .colab-df-convert {\n",
              "      background-color: #E8F0FE;\n",
              "      border: none;\n",
              "      border-radius: 50%;\n",
              "      cursor: pointer;\n",
              "      display: none;\n",
              "      fill: #1967D2;\n",
              "      height: 32px;\n",
              "      padding: 0 0 0 0;\n",
              "      width: 32px;\n",
              "    }\n",
              "\n",
              "    .colab-df-convert:hover {\n",
              "      background-color: #E2EBFA;\n",
              "      box-shadow: 0px 1px 2px rgba(60, 64, 67, 0.3), 0px 1px 3px 1px rgba(60, 64, 67, 0.15);\n",
              "      fill: #174EA6;\n",
              "    }\n",
              "\n",
              "    [theme=dark] .colab-df-convert {\n",
              "      background-color: #3B4455;\n",
              "      fill: #D2E3FC;\n",
              "    }\n",
              "\n",
              "    [theme=dark] .colab-df-convert:hover {\n",
              "      background-color: #434B5C;\n",
              "      box-shadow: 0px 1px 3px 1px rgba(0, 0, 0, 0.15);\n",
              "      filter: drop-shadow(0px 1px 2px rgba(0, 0, 0, 0.3));\n",
              "      fill: #FFFFFF;\n",
              "    }\n",
              "  </style>\n",
              "\n",
              "      <script>\n",
              "        const buttonEl =\n",
              "          document.querySelector('#df-8dd63135-fc78-4303-8cbb-051fdc83108d button.colab-df-convert');\n",
              "        buttonEl.style.display =\n",
              "          google.colab.kernel.accessAllowed ? 'block' : 'none';\n",
              "\n",
              "        async function convertToInteractive(key) {\n",
              "          const element = document.querySelector('#df-8dd63135-fc78-4303-8cbb-051fdc83108d');\n",
              "          const dataTable =\n",
              "            await google.colab.kernel.invokeFunction('convertToInteractive',\n",
              "                                                     [key], {});\n",
              "          if (!dataTable) return;\n",
              "\n",
              "          const docLinkHtml = 'Like what you see? Visit the ' +\n",
              "            '<a target=\"_blank\" href=https://colab.research.google.com/notebooks/data_table.ipynb>data table notebook</a>'\n",
              "            + ' to learn more about interactive tables.';\n",
              "          element.innerHTML = '';\n",
              "          dataTable['output_type'] = 'display_data';\n",
              "          await google.colab.output.renderOutput(dataTable, element);\n",
              "          const docLink = document.createElement('div');\n",
              "          docLink.innerHTML = docLinkHtml;\n",
              "          element.appendChild(docLink);\n",
              "        }\n",
              "      </script>\n",
              "    </div>\n",
              "  </div>\n",
              "  "
            ]
          },
          "metadata": {},
          "execution_count": 1
        }
      ],
      "source": [
        "import numpy as np\n",
        "import pandas as pd\n",
        "from matplotlib import pyplot as plt\n",
        "\n",
        "df = pd.read_csv(\"diabetes.csv\")\n",
        "df.head()"
      ]
    },
    {
      "cell_type": "code",
      "source": [
        "X = df[df.columns[:-1]].values\n",
        "y = df['Outcome'].values"
      ],
      "metadata": {
        "id": "CyzQylQC_pKP"
      },
      "execution_count": null,
      "outputs": []
    },
    {
      "cell_type": "code",
      "source": [
        "from sklearn.model_selection import train_test_split\n",
        "\n",
        "X_train, X_test, y_train, y_test = train_test_split(X, y, test_size=0.4, random_state=42, stratify=y)\n"
      ],
      "metadata": {
        "id": "JJ5ZIKiyATrl"
      },
      "execution_count": null,
      "outputs": []
    },
    {
      "cell_type": "markdown",
      "source": [
        "\n",
        "\n",
        "### A) Complete a variável 'K' com valores 'k' condizentes para o KNN.\n",
        "\n",
        "### B) Adicione, nas listas de treino e teste, as acurácias do modelo knn treinado. Vide documentação para obter a acurácia.\n",
        "\n",
        "* Obs: utilizar X_train, y_train para acurácia do treino e X_test e y_test para acurácia do teste.\n",
        "\n",
        "\n",
        "Para mais informações:\n",
        "[sklearn.neighbors.KNeighborsClassifier](https://scikit-learn.org/stable/modules/generated/sklearn.neighbors.KNeighborsClassifier.html)"
      ],
      "metadata": {
        "id": "lTg5SJCvElVA"
      }
    },
    {
      "cell_type": "code",
      "source": [
        "from sklearn.neighbors import KNeighborsClassifier\n",
        "from sklearn.metrics import accuracy_score\n",
        "\n",
        "K = [3, 5, 7, 9, 11] # Complete vide \"A)\"\n",
        "\n",
        "accuracy_training = []\n",
        "accuracy_testing  = []\n",
        "\n",
        "for i in K:\n",
        "  knn = KNeighborsClassifier(n_neighbors=i)\n",
        "\n",
        "  knn.fit(X_train, y_train)\n",
        "\n",
        "  pred = knn.predict(X_test)\n",
        "  pred_train = knn.predict(X_train)\n",
        "\n",
        "  test_acc = accuracy_score(y_test, pred)\n",
        "  train_acc = accuracy_score(y_train, pred_train)\n",
        "\n",
        "  print(\"----------------------------------------------------------------------------\\n\")\n",
        "  print(f\"Acurácia de teste para K = {i}: {test_acc}\\n\")\n",
        "  print(f\"Acurácia de treino para K = {i}: {train_acc}\\n\")\n",
        "\n",
        "  accuracy_training.append(train_acc)\n",
        "  accuracy_testing.append(test_acc)\n",
        "\n",
        "  # Complete vide \"B)\""
      ],
      "metadata": {
        "id": "mkZmFEtNDO-X",
        "colab": {
          "base_uri": "https://localhost:8080/"
        },
        "outputId": "7e85764b-bfdf-40de-8806-c4ba4063c40d"
      },
      "execution_count": null,
      "outputs": [
        {
          "output_type": "stream",
          "name": "stdout",
          "text": [
            "----------------------------------------------------------------------------\n",
            "\n",
            "Acurácia de teste para K = 3: 0.685064935064935\n",
            "\n",
            "Acurácia de treino para K = 3: 0.8456521739130435\n",
            "\n",
            "----------------------------------------------------------------------------\n",
            "\n",
            "Acurácia de teste para K = 5: 0.7012987012987013\n",
            "\n",
            "Acurácia de treino para K = 5: 0.7891304347826087\n",
            "\n",
            "----------------------------------------------------------------------------\n",
            "\n",
            "Acurácia de teste para K = 7: 0.7305194805194806\n",
            "\n",
            "Acurácia de treino para K = 7: 0.7869565217391304\n",
            "\n",
            "----------------------------------------------------------------------------\n",
            "\n",
            "Acurácia de teste para K = 9: 0.7142857142857143\n",
            "\n",
            "Acurácia de treino para K = 9: 0.7869565217391304\n",
            "\n",
            "----------------------------------------------------------------------------\n",
            "\n",
            "Acurácia de teste para K = 11: 0.7142857142857143\n",
            "\n",
            "Acurácia de treino para K = 11: 0.7804347826086957\n",
            "\n"
          ]
        }
      ]
    },
    {
      "cell_type": "markdown",
      "source": [
        "### C) Gere um plot com a acurácia dos dados de treinamento e outro com os dados de teste. Os eixos devem ser compostos da maneira a seguir:\n",
        "* Eixo x: valores de k\n",
        "* Eixo y: valores da acurácia"
      ],
      "metadata": {
        "id": "3OOusvErFf8F"
      }
    },
    {
      "cell_type": "code",
      "source": [
        "plt.title('Acurácia variando com os valores de K')\n",
        "# Complete com o que foi solicitado acima\n",
        "\n",
        "plt.plot(K, accuracy_training, label = 'accuracy training')\n",
        "plt.plot(K, accuracy_testing, label = 'accuracy testing')\n",
        "plt.legend()\n"
      ],
      "metadata": {
        "id": "JSb8gj-CFB0O",
        "colab": {
          "base_uri": "https://localhost:8080/",
          "height": 298
        },
        "outputId": "bd5255ab-cf63-49c8-82fe-cd36a4e13226"
      },
      "execution_count": null,
      "outputs": [
        {
          "output_type": "execute_result",
          "data": {
            "text/plain": [
              "<matplotlib.legend.Legend at 0x7f2d6cda4850>"
            ]
          },
          "metadata": {},
          "execution_count": 9
        },
        {
          "output_type": "display_data",
          "data": {
            "text/plain": [
              "<Figure size 432x288 with 1 Axes>"
            ],
            "image/png": "[encoded data removed]"
          },
          "metadata": {
            "needs_background": "light"
          }
        }
      ]
    },
    {
      "cell_type": "markdown",
      "source": [
        "## Questão 2. (0,5 ponto)\n"
      ],
      "metadata": {
        "id": "Ueh7TNE1GruG"
      }
    },
    {
      "cell_type": "markdown",
      "source": [
        "A) Avaliando a questão anterior, como pode ser definido um bom valor de k para o modelo? \n",
        "\n",
        "resposta:\n",
        " *Analisando a acurácia nos casos de teste e comparando com oo casos de treino pode se perceber que quando K = 7, obtemos o melhor resultado de treino entre os casos apresentados na questão. Com o K < 4 os dados de treino foram altos, mas os de teste não foram bons como os com o K = 7*.\n",
        "\n",
        "B) Discorra sobre o valor de *k = 1* em modelos de *KNN*.\n",
        "\n",
        "resposta:\n",
        "*Em modelos KNN o valor K = 1, geralmente leva o modelo a ficar super ajustado (overfiting) aos dados de treinamento. Quando K = 1, há a estivativa da probabilidade de classe baseando-se em apenas um elemento, o seu vzinho mais próximo e essas situações são bem mais sensíveis a ruídos, outliers, dados mal etiquedados, entre outros problemas.*\n",
        "\n",
        "C) Descreva uma justificativa para o uso de *KNN* como modelo preditivo nesse dataset.\n",
        "\n",
        "resposta:\n",
        "*É possível justificar a utilização do KNN nesse dataset devido a pacientes com diabetes apresentarem certas características similares entre si, logo, facilitaria a classificação usando o KNN, pois essas pessoas se comportariam como pontos próximos.*"
      ],
      "metadata": {
        "id": "qby8ZJTGG0C3"
      }
    },
    {
      "cell_type": "markdown",
      "source": [
        "## Questão 3. (1 ponto)\n",
        "### Com o mesmo código da questão anterior, adapte-o para utilizar o modelo preditivo do Naive Bayes. Em seguida, compare os resultados, avaliando os *scores* de cada tipo de modelo Naive Bayes.\n",
        "\n",
        "### Para mais informações:\n",
        "* [sklearn.naive_bayes.GaussianNB](https://scikit-learn.org/stable/modules/generated/sklearn.naive_bayes.GaussianNB.html#sklearn.naive_bayes.GaussianNB.score)\n",
        "* [sklearn.naive_bayes.MultinomialNB](https://scikit-learn.org/stable/modules/generated/sklearn.naive_bayes.MultinomialNB.html#sklearn.naive_bayes.MultinomialNB)\n",
        "* [sklearn.naive_bayes.BernoulliNB](https://scikit-learn.org/stable/modules/generated/sklearn.naive_bayes.BernoulliNB.html)\n",
        "\n",
        "* OBS: Lembrar de mudar os parâmetros das funções para um possível melhor resultado."
      ],
      "metadata": {
        "id": "yi4KmnZVKUjF"
      }
    },
    {
      "cell_type": "code",
      "source": [
        "df = pd.read_csv(\"diabetes.csv\")\n",
        "df.head()"
      ],
      "metadata": {
        "colab": {
          "base_uri": "https://localhost:8080/",
          "height": 250
        },
        "id": "--GLUzE6Axxh",
        "outputId": "f38c603d-72b5-44b2-be9b-2023f55f2b84"
      },
      "execution_count": null,
      "outputs": [
        {
          "output_type": "execute_result",
          "data": {
            "text/plain": [
              "   Pregnancies  Glucose  BloodPressure  SkinThickness  Insulin   BMI  \\\n",
              "0            6      148             72             35        0  33.6   \n",
              "1            1       85             66             29        0  26.6   \n",
              "2            8      183             64              0        0  23.3   \n",
              "3            1       89             66             23       94  28.1   \n",
              "4            0      137             40             35      168  43.1   \n",
              "\n",
              "   DiabetesPedigreeFunction  Age  Outcome  \n",
              "0                     0.627   50        1  \n",
              "1                     0.351   31        0  \n",
              "2                     0.672   32        1  \n",
              "3                     0.167   21        0  \n",
              "4                     2.288   33        1  "
            ],
            "text/html": [
              "\n",
              "  <div id=\"df-a481e588-e8ff-404e-be9c-d11d91471881\">\n",
              "    <div class=\"colab-df-container\">\n",
              "      <div>\n",
              "<style scoped>\n",
              "    .dataframe tbody tr th:only-of-type {\n",
              "        vertical-align: middle;\n",
              "    }\n",
              "\n",
              "    .dataframe tbody tr th {\n",
              "        vertical-align: top;\n",
              "    }\n",
              "\n",
              "    .dataframe thead th {\n",
              "        text-align: right;\n",
              "    }\n",
              "</style>\n",
              "<table border=\"1\" class=\"dataframe\">\n",
              "  <thead>\n",
              "    <tr style=\"text-align: right;\">\n",
              "      <th></th>\n",
              "      <th>Pregnancies</th>\n",
              "      <th>Glucose</th>\n",
              "      <th>BloodPressure</th>\n",
              "      <th>SkinThickness</th>\n",
              "      <th>Insulin</th>\n",
              "      <th>BMI</th>\n",
              "      <th>DiabetesPedigreeFunction</th>\n",
              "      <th>Age</th>\n",
              "      <th>Outcome</th>\n",
              "    </tr>\n",
              "  </thead>\n",
              "  <tbody>\n",
              "    <tr>\n",
              "      <th>0</th>\n",
              "      <td>6</td>\n",
              "      <td>148</td>\n",
              "      <td>72</td>\n",
              "      <td>35</td>\n",
              "      <td>0</td>\n",
              "      <td>33.6</td>\n",
              "      <td>0.627</td>\n",
              "      <td>50</td>\n",
              "      <td>1</td>\n",
              "    </tr>\n",
              "    <tr>\n",
              "      <th>1</th>\n",
              "      <td>1</td>\n",
              "      <td>85</td>\n",
              "      <td>66</td>\n",
              "      <td>29</td>\n",
              "      <td>0</td>\n",
              "      <td>26.6</td>\n",
              "      <td>0.351</td>\n",
              "      <td>31</td>\n",
              "      <td>0</td>\n",
              "    </tr>\n",
              "    <tr>\n",
              "      <th>2</th>\n",
              "      <td>8</td>\n",
              "      <td>183</td>\n",
              "      <td>64</td>\n",
              "      <td>0</td>\n",
              "      <td>0</td>\n",
              "      <td>23.3</td>\n",
              "      <td>0.672</td>\n",
              "      <td>32</td>\n",
              "      <td>1</td>\n",
              "    </tr>\n",
              "    <tr>\n",
              "      <th>3</th>\n",
              "      <td>1</td>\n",
              "      <td>89</td>\n",
              "      <td>66</td>\n",
              "      <td>23</td>\n",
              "      <td>94</td>\n",
              "      <td>28.1</td>\n",
              "      <td>0.167</td>\n",
              "      <td>21</td>\n",
              "      <td>0</td>\n",
              "    </tr>\n",
              "    <tr>\n",
              "      <th>4</th>\n",
              "      <td>0</td>\n",
              "      <td>137</td>\n",
              "      <td>40</td>\n",
              "      <td>35</td>\n",
              "      <td>168</td>\n",
              "      <td>43.1</td>\n",
              "      <td>2.288</td>\n",
              "      <td>33</td>\n",
              "      <td>1</td>\n",
              "    </tr>\n",
              "  </tbody>\n",
              "</table>\n",
              "</div>\n",
              "      <button class=\"colab-df-convert\" onclick=\"convertToInteractive('df-a481e588-e8ff-404e-be9c-d11d91471881')\"\n",
              "              title=\"Convert this dataframe to an interactive table.\"\n",
              "              style=\"display:none;\">\n",
              "        \n",
              "  <svg xmlns=\"http://www.w3.org/2000/svg\" height=\"24px\"viewBox=\"0 0 24 24\"\n",
              "       width=\"24px\">\n",
              "    <path d=\"M0 0h24v24H0V0z\" fill=\"none\"/>\n",
              "    <path d=\"M18.56 5.44l.94 2.06.94-2.06 2.06-.94-2.06-.94-.94-2.06-.94 2.06-2.06.94zm-11 1L8.5 8.5l.94-2.06 2.06-.94-2.06-.94L8.5 2.5l-.94 2.06-2.06.94zm10 10l.94 2.06.94-2.06 2.06-.94-2.06-.94-.94-2.06-.94 2.06-2.06.94z\"/><path d=\"M17.41 7.96l-1.37-1.37c-.4-.4-.92-.59-1.43-.59-.52 0-1.04.2-1.43.59L10.3 9.45l-7.72 7.72c-.78.78-.78 2.05 0 2.83L4 21.41c.39.39.9.59 1.41.59.51 0 1.02-.2 1.41-.59l7.78-7.78 2.81-2.81c.8-.78.8-2.07 0-2.86zM5.41 20L4 18.59l7.72-7.72 1.47 1.35L5.41 20z\"/>\n",
              "  </svg>\n",
              "      </button>\n",
              "      \n",
              "  <style>\n",
              "    .colab-df-container {\n",
              "      display:flex;\n",
              "      flex-wrap:wrap;\n",
              "      gap: 12px;\n",
              "    }\n",
              "\n",
              "    .colab-df-convert {\n",
              "      background-color: #E8F0FE;\n",
              "      border: none;\n",
              "      border-radius: 50%;\n",
              "      cursor: pointer;\n",
              "      display: none;\n",
              "      fill: #1967D2;\n",
              "      height: 32px;\n",
              "      padding: 0 0 0 0;\n",
              "      width: 32px;\n",
              "    }\n",
              "\n",
              "    .colab-df-convert:hover {\n",
              "      background-color: #E2EBFA;\n",
              "      box-shadow: 0px 1px 2px rgba(60, 64, 67, 0.3), 0px 1px 3px 1px rgba(60, 64, 67, 0.15);\n",
              "      fill: #174EA6;\n",
              "    }\n",
              "\n",
              "    [theme=dark] .colab-df-convert {\n",
              "      background-color: #3B4455;\n",
              "      fill: #D2E3FC;\n",
              "    }\n",
              "\n",
              "    [theme=dark] .colab-df-convert:hover {\n",
              "      background-color: #434B5C;\n",
              "      box-shadow: 0px 1px 3px 1px rgba(0, 0, 0, 0.15);\n",
              "      filter: drop-shadow(0px 1px 2px rgba(0, 0, 0, 0.3));\n",
              "      fill: #FFFFFF;\n",
              "    }\n",
              "  </style>\n",
              "\n",
              "      <script>\n",
              "        const buttonEl =\n",
              "          document.querySelector('#df-a481e588-e8ff-404e-be9c-d11d91471881 button.colab-df-convert');\n",
              "        buttonEl.style.display =\n",
              "          google.colab.kernel.accessAllowed ? 'block' : 'none';\n",
              "\n",
              "        async function convertToInteractive(key) {\n",
              "          const element = document.querySelector('#df-a481e588-e8ff-404e-be9c-d11d91471881');\n",
              "          const dataTable =\n",
              "            await google.colab.kernel.invokeFunction('convertToInteractive',\n",
              "                                                     [key], {});\n",
              "          if (!dataTable) return;\n",
              "\n",
              "          const docLinkHtml = 'Like what you see? Visit the ' +\n",
              "            '<a target=\"_blank\" href=https://colab.research.google.com/notebooks/data_table.ipynb>data table notebook</a>'\n",
              "            + ' to learn more about interactive tables.';\n",
              "          element.innerHTML = '';\n",
              "          dataTable['output_type'] = 'display_data';\n",
              "          await google.colab.output.renderOutput(dataTable, element);\n",
              "          const docLink = document.createElement('div');\n",
              "          docLink.innerHTML = docLinkHtml;\n",
              "          element.appendChild(docLink);\n",
              "        }\n",
              "      </script>\n",
              "    </div>\n",
              "  </div>\n",
              "  "
            ]
          },
          "metadata": {},
          "execution_count": 10
        }
      ]
    },
    {
      "cell_type": "code",
      "source": [
        "X = df[df.columns[:-1]].values\n",
        "y = df['Outcome'].values\n",
        "\n",
        "X_train, X_test, y_train, y_test = train_test_split(X, y, test_size=0.4, random_state=42, stratify=y)\n"
      ],
      "metadata": {
        "id": "BOGYAIUkAyIk"
      },
      "execution_count": null,
      "outputs": []
    },
    {
      "cell_type": "code",
      "source": [
        "from sklearn.naive_bayes import GaussianNB, MultinomialNB, BernoulliNB\n",
        "import warnings\n",
        "warnings.filterwarnings(\"ignore\")\n",
        "\n",
        "GaussNB = GaussianNB()\n",
        "MultiNB = MultinomialNB(alpha = 0)\n",
        "BernouNB = BernoulliNB(alpha = 0.1, binarize = None)\n",
        "\n",
        "GaussNB.fit(X_train, y_train)\n",
        "MultiNB.fit(X_train, y_train)\n",
        "BernouNB.fit(X_train, y_train)\n",
        "\n",
        "print(f\"Score Gaussian Naive Bayes: {GaussNB.score(X_test, y_test)}\")\n",
        "print(\"-----------------------------------------------------------------\\n\")\n",
        "print(f\"Score Multinomial Naive Bayes: {MultiNB.score(X_test, y_test)}\")\n",
        "print(\"-----------------------------------------------------------------\\n\")\n",
        "print(f\"Score Bernoulli Naive Bayes: {BernouNB.score(X_test, y_test)}\")\n",
        "\n",
        "# Complete conforme pedido acima"
      ],
      "metadata": {
        "id": "IM8Cos6aLJZQ",
        "colab": {
          "base_uri": "https://localhost:8080/"
        },
        "outputId": "dcf2be33-621b-4490-dc69-41cf5653b2b2"
      },
      "execution_count": null,
      "outputs": [
        {
          "output_type": "stream",
          "name": "stdout",
          "text": [
            "Score Gaussian Naive Bayes: 0.7337662337662337\n",
            "-----------------------------------------------------------------\n",
            "\n",
            "Score Multinomial Naive Bayes: 0.5811688311688312\n",
            "-----------------------------------------------------------------\n",
            "\n",
            "Score Bernoulli Naive Bayes: 0.6525974025974026\n"
          ]
        }
      ]
    },
    {
      "cell_type": "markdown",
      "source": [
        "## Questão 4. (1 ponto)\n"
      ],
      "metadata": {
        "id": "eVFGmBA8Mxbe"
      }
    },
    {
      "cell_type": "markdown",
      "source": [
        "## A) Descreva se teve alguma mudança significativa na comparação dos modelos preditivos, tanto entre tipos de Naive Bayes, quanto entre Naive Bayes e KNN.\n",
        "\n",
        "resposta:\n",
        "*O gaussian obteve vantagem quando comparado ao multinomial, que por sua vez é mais recomendado para o uso de classificação em dados discretos. O gaussian também levou vantagem sobre o bernoulli que, assim como o multinomial, é recomendado para bases com valores mais discretos, porém, diferente do multinomial, ele se dá melhor com valores binários. Se comparando com o KNN percebe-se que o Naive Bayes encontrou resultados similares aos melhores resultados que o KNN atingiu.*\n",
        "\n",
        "## B) Cite algum caso específico em que Naive Bayes pode ser mais vantajoso do que KNN e vice-versa.\n",
        "\n",
        "resposta:\n",
        "*Em problemas que precisam de resultado em tempo real, como previsão de tempo por exemplo, o Naive Bayes obtém vantagem, pois ele é um algoritmo com uma velocidade maior que o KNN.*"
      ],
      "metadata": {
        "id": "h0p8WrZoQQU7"
      }
    },
    {
      "cell_type": "markdown",
      "source": [
        "## Questão 5. (1 ponto)\n",
        "\n",
        "## Avalie a base de dados de Pima Indians Diabetes pela acurácia, utilizando Regressão Linear e Regressão Logística.\n",
        "\n",
        "* Obs: Lembrar de mudar os parâmetros para ser compatível com as regressões respectivas.\n"
      ],
      "metadata": {
        "id": "tcquUevQNadd"
      }
    },
    {
      "cell_type": "code",
      "source": [
        "df = pd.read_csv(\"diabetes.csv\")\n",
        "df.head()"
      ],
      "metadata": {
        "id": "6qxDFoT6A0w6",
        "colab": {
          "base_uri": "https://localhost:8080/",
          "height": 250
        },
        "outputId": "a3d5d901-5267-4246-c74e-cd3c193a4fba"
      },
      "execution_count": null,
      "outputs": [
        {
          "output_type": "execute_result",
          "data": {
            "text/plain": [
              "   Pregnancies  Glucose  BloodPressure  SkinThickness  Insulin   BMI  \\\n",
              "0            6      148             72             35        0  33.6   \n",
              "1            1       85             66             29        0  26.6   \n",
              "2            8      183             64              0        0  23.3   \n",
              "3            1       89             66             23       94  28.1   \n",
              "4            0      137             40             35      168  43.1   \n",
              "\n",
              "   DiabetesPedigreeFunction  Age  Outcome  \n",
              "0                     0.627   50        1  \n",
              "1                     0.351   31        0  \n",
              "2                     0.672   32        1  \n",
              "3                     0.167   21        0  \n",
              "4                     2.288   33        1  "
            ],
            "text/html": [
              "\n",
              "  <div id=\"df-b84a5379-71bf-4902-ad06-eb2537809518\">\n",
              "    <div class=\"colab-df-container\">\n",
              "      <div>\n",
              "<style scoped>\n",
              "    .dataframe tbody tr th:only-of-type {\n",
              "        vertical-align: middle;\n",
              "    }\n",
              "\n",
              "    .dataframe tbody tr th {\n",
              "        vertical-align: top;\n",
              "    }\n",
              "\n",
              "    .dataframe thead th {\n",
              "        text-align: right;\n",
              "    }\n",
              "</style>\n",
              "<table border=\"1\" class=\"dataframe\">\n",
              "  <thead>\n",
              "    <tr style=\"text-align: right;\">\n",
              "      <th></th>\n",
              "      <th>Pregnancies</th>\n",
              "      <th>Glucose</th>\n",
              "      <th>BloodPressure</th>\n",
              "      <th>SkinThickness</th>\n",
              "      <th>Insulin</th>\n",
              "      <th>BMI</th>\n",
              "      <th>DiabetesPedigreeFunction</th>\n",
              "      <th>Age</th>\n",
              "      <th>Outcome</th>\n",
              "    </tr>\n",
              "  </thead>\n",
              "  <tbody>\n",
              "    <tr>\n",
              "      <th>0</th>\n",
              "      <td>6</td>\n",
              "      <td>148</td>\n",
              "      <td>72</td>\n",
              "      <td>35</td>\n",
              "      <td>0</td>\n",
              "      <td>33.6</td>\n",
              "      <td>0.627</td>\n",
              "      <td>50</td>\n",
              "      <td>1</td>\n",
              "    </tr>\n",
              "    <tr>\n",
              "      <th>1</th>\n",
              "      <td>1</td>\n",
              "      <td>85</td>\n",
              "      <td>66</td>\n",
              "      <td>29</td>\n",
              "      <td>0</td>\n",
              "      <td>26.6</td>\n",
              "      <td>0.351</td>\n",
              "      <td>31</td>\n",
              "      <td>0</td>\n",
              "    </tr>\n",
              "    <tr>\n",
              "      <th>2</th>\n",
              "      <td>8</td>\n",
              "      <td>183</td>\n",
              "      <td>64</td>\n",
              "      <td>0</td>\n",
              "      <td>0</td>\n",
              "      <td>23.3</td>\n",
              "      <td>0.672</td>\n",
              "      <td>32</td>\n",
              "      <td>1</td>\n",
              "    </tr>\n",
              "    <tr>\n",
              "      <th>3</th>\n",
              "      <td>1</td>\n",
              "      <td>89</td>\n",
              "      <td>66</td>\n",
              "      <td>23</td>\n",
              "      <td>94</td>\n",
              "      <td>28.1</td>\n",
              "      <td>0.167</td>\n",
              "      <td>21</td>\n",
              "      <td>0</td>\n",
              "    </tr>\n",
              "    <tr>\n",
              "      <th>4</th>\n",
              "      <td>0</td>\n",
              "      <td>137</td>\n",
              "      <td>40</td>\n",
              "      <td>35</td>\n",
              "      <td>168</td>\n",
              "      <td>43.1</td>\n",
              "      <td>2.288</td>\n",
              "      <td>33</td>\n",
              "      <td>1</td>\n",
              "    </tr>\n",
              "  </tbody>\n",
              "</table>\n",
              "</div>\n",
              "      <button class=\"colab-df-convert\" onclick=\"convertToInteractive('df-b84a5379-71bf-4902-ad06-eb2537809518')\"\n",
              "              title=\"Convert this dataframe to an interactive table.\"\n",
              "              style=\"display:none;\">\n",
              "        \n",
              "  <svg xmlns=\"http://www.w3.org/2000/svg\" height=\"24px\"viewBox=\"0 0 24 24\"\n",
              "       width=\"24px\">\n",
              "    <path d=\"M0 0h24v24H0V0z\" fill=\"none\"/>\n",
              "    <path d=\"M18.56 5.44l.94 2.06.94-2.06 2.06-.94-2.06-.94-.94-2.06-.94 2.06-2.06.94zm-11 1L8.5 8.5l.94-2.06 2.06-.94-2.06-.94L8.5 2.5l-.94 2.06-2.06.94zm10 10l.94 2.06.94-2.06 2.06-.94-2.06-.94-.94-2.06-.94 2.06-2.06.94z\"/><path d=\"M17.41 7.96l-1.37-1.37c-.4-.4-.92-.59-1.43-.59-.52 0-1.04.2-1.43.59L10.3 9.45l-7.72 7.72c-.78.78-.78 2.05 0 2.83L4 21.41c.39.39.9.59 1.41.59.51 0 1.02-.2 1.41-.59l7.78-7.78 2.81-2.81c.8-.78.8-2.07 0-2.86zM5.41 20L4 18.59l7.72-7.72 1.47 1.35L5.41 20z\"/>\n",
              "  </svg>\n",
              "      </button>\n",
              "      \n",
              "  <style>\n",
              "    .colab-df-container {\n",
              "      display:flex;\n",
              "      flex-wrap:wrap;\n",
              "      gap: 12px;\n",
              "    }\n",
              "\n",
              "    .colab-df-convert {\n",
              "      background-color: #E8F0FE;\n",
              "      border: none;\n",
              "      border-radius: 50%;\n",
              "      cursor: pointer;\n",
              "      display: none;\n",
              "      fill: #1967D2;\n",
              "      height: 32px;\n",
              "      padding: 0 0 0 0;\n",
              "      width: 32px;\n",
              "    }\n",
              "\n",
              "    .colab-df-convert:hover {\n",
              "      background-color: #E2EBFA;\n",
              "      box-shadow: 0px 1px 2px rgba(60, 64, 67, 0.3), 0px 1px 3px 1px rgba(60, 64, 67, 0.15);\n",
              "      fill: #174EA6;\n",
              "    }\n",
              "\n",
              "    [theme=dark] .colab-df-convert {\n",
              "      background-color: #3B4455;\n",
              "      fill: #D2E3FC;\n",
              "    }\n",
              "\n",
              "    [theme=dark] .colab-df-convert:hover {\n",
              "      background-color: #434B5C;\n",
              "      box-shadow: 0px 1px 3px 1px rgba(0, 0, 0, 0.15);\n",
              "      filter: drop-shadow(0px 1px 2px rgba(0, 0, 0, 0.3));\n",
              "      fill: #FFFFFF;\n",
              "    }\n",
              "  </style>\n",
              "\n",
              "      <script>\n",
              "        const buttonEl =\n",
              "          document.querySelector('#df-b84a5379-71bf-4902-ad06-eb2537809518 button.colab-df-convert');\n",
              "        buttonEl.style.display =\n",
              "          google.colab.kernel.accessAllowed ? 'block' : 'none';\n",
              "\n",
              "        async function convertToInteractive(key) {\n",
              "          const element = document.querySelector('#df-b84a5379-71bf-4902-ad06-eb2537809518');\n",
              "          const dataTable =\n",
              "            await google.colab.kernel.invokeFunction('convertToInteractive',\n",
              "                                                     [key], {});\n",
              "          if (!dataTable) return;\n",
              "\n",
              "          const docLinkHtml = 'Like what you see? Visit the ' +\n",
              "            '<a target=\"_blank\" href=https://colab.research.google.com/notebooks/data_table.ipynb>data table notebook</a>'\n",
              "            + ' to learn more about interactive tables.';\n",
              "          element.innerHTML = '';\n",
              "          dataTable['output_type'] = 'display_data';\n",
              "          await google.colab.output.renderOutput(dataTable, element);\n",
              "          const docLink = document.createElement('div');\n",
              "          docLink.innerHTML = docLinkHtml;\n",
              "          element.appendChild(docLink);\n",
              "        }\n",
              "      </script>\n",
              "    </div>\n",
              "  </div>\n",
              "  "
            ]
          },
          "metadata": {},
          "execution_count": 18
        }
      ]
    },
    {
      "cell_type": "code",
      "source": [
        "X = df[df.columns[:-1]].values\n",
        "y = df['Outcome'].values\n",
        "\n",
        "X_train, X_test, y_train, y_test = train_test_split(X, y, test_size=0.4, random_state=42, stratify=y)\n"
      ],
      "metadata": {
        "id": "MDKO4NEPA3cy"
      },
      "execution_count": null,
      "outputs": []
    },
    {
      "cell_type": "code",
      "source": [
        "from sklearn.linear_model import LinearRegression, LogisticRegression\n",
        "\n",
        "# Complete conforme pedido acima\n",
        "\n",
        "l_reg = LinearRegression().fit(X_train, y_train)\n",
        "acc_lreg = l_reg.score(X_test, y_test)\n",
        "logireg = LogisticRegression().fit(X_train, y_train)\n",
        "acc_logi = logireg.score(X_test, y_test)\n",
        "\n",
        "print(f'Acurácia Regressão Linear: {acc_lreg}')\n",
        "print(\"------------------------------------------------\")\n",
        "print(f'Acurácia Regressão Logística: {acc_logi}')"
      ],
      "metadata": {
        "id": "dHaG5QOqTHH-",
        "colab": {
          "base_uri": "https://localhost:8080/"
        },
        "outputId": "3c7dfc4a-ed85-4014-b06c-b689cfbdca25"
      },
      "execution_count": null,
      "outputs": [
        {
          "output_type": "stream",
          "name": "stdout",
          "text": [
            "Acurácia Regressão Linear: 0.2818848560387851\n",
            "------------------------------------------------\n",
            "Acurácia Regressão Logística: 0.7402597402597403\n"
          ]
        }
      ]
    },
    {
      "cell_type": "markdown",
      "source": [
        "## Questão 6 (0,5 ponto).\n",
        "## A) Explique como o *fitting* da Regressão Logística se diferencia da Regressão Linear.\n",
        "\n",
        "resposta:\n",
        "*Na regressão linear, é encontrado dado seu conjunto de dados, a melhor linha que pode prever a saída quando a entrada é um dado novo. O método de estimativa dos mínimos quadrados é utilizado para a estimativa de acurácia e a saída de um modelo de regressão linear deve ser um valor continuo. É importante ressaltar que na regressão linear é necessário uma relação linear entre variável dependente e variável independente. Na regressão logística é encontrado a melhor curva S que pode facilmente classificar dados novos. O metodo de estimativa de acurácia é o maximum likelihood e a saída de um modelo de regressão logistica é um valor categórico. Na regressão logistica não é necessario haver uma relação entre variáveis dependentes e independentes.*\n",
        "\n",
        "## B) Em quais contextos a Regressão Logística é preferível de se utilizar do que a Linear?\n",
        "\n",
        "resposta:\n",
        "*A regressão logística é utilizada para resolver problemas de classificação.*"
      ],
      "metadata": {
        "id": "Ufy_bmXpVHzQ"
      }
    },
    {
      "cell_type": "markdown",
      "source": [
        "## Questão 7. (0,5 ponto)\n",
        "## Analise a árvore abaixo e utilize-a para explicar as propriedades do problema.\n",
        "\n"
      ],
      "metadata": {
        "id": "GqArKssYHU_P"
      }
    },
    {
      "cell_type": "code",
      "source": [
        "from sklearn import tree\n",
        "from sklearn import datasets\n",
        "from sklearn.tree import DecisionTreeClassifier \n",
        "\n",
        "iris = datasets.load_iris()\n",
        "X = iris.data\n",
        "y = iris.target\n",
        "clf = DecisionTreeClassifier(random_state=1234)\n",
        "model = clf.fit(X, y)\n",
        "fig = plt.figure(figsize=(25,10))\n",
        "_ = tree.plot_tree(clf, \n",
        "                   feature_names=iris.feature_names,  \n",
        "                   class_names=iris.target_names,\n",
        "                   filled=True)"
      ],
      "metadata": {
        "id": "D-HepkwNV0K7",
        "colab": {
          "base_uri": "https://localhost:8080/",
          "height": 356
        },
        "outputId": "5d3a871c-021b-4aae-d60f-4655470452f8"
      },
      "execution_count": null,
      "outputs": [
        {
          "output_type": "display_data",
          "data": {
            "text/plain": [
              "<Figure size 1800x720 with 1 Axes>"
            ],
            "image/png": "[encoded data removed]"
          },
          "metadata": {
            "needs_background": "light"
          }
        }
      ]
    },
    {
      "cell_type": "markdown",
      "source": [
        "resposta:\n",
        "*Percebe-se pelos nós mais próximos da raiz que o atributo petal length é usado como principal fator para a classificação, podendo o modelo já classificar para a classe setosa caso petal lenght <= 2.45, em seguida temos o atributo petal width que oferece dois caminhos diferentes, onde ambos podem levar tanto a classe virginica ou versicolor caso algumas condições sejam supridas.*"
      ],
      "metadata": {
        "id": "MKFF2l9kQNon"
      }
    },
    {
      "cell_type": "markdown",
      "source": [
        "## Questão 8. (0,5 ponto)\n",
        "## Analise o gráfico da importância que a árvore dá para cada feature e retire insights sobre fatores de riscos da diabetes.\n"
      ],
      "metadata": {
        "id": "uBASm24UIO8f"
      }
    },
    {
      "cell_type": "code",
      "source": [
        "from sklearn.datasets import make_regression\n",
        "from sklearn.tree import DecisionTreeRegressor\n",
        "from matplotlib import pyplot\n",
        "\n",
        "df = pd.read_csv(\"diabetes.csv\")\n",
        "X = df[df.columns[:-1]].values\n",
        "y = df['Outcome'].values\n",
        "\n",
        "model = DecisionTreeRegressor()\n",
        "model.fit(X, y)\n",
        "importance = model.feature_importances_\n",
        "for i,v in enumerate(importance):\n",
        "\tprint('Feature: %0d, Score: %.5f' % (i,v))\n",
        "# plot feature importance\n",
        "pyplot.figure(figsize=(15, 10), dpi=80)\n",
        "pyplot.bar(df.columns[:-1], importance)\n",
        "pyplot.show()"
      ],
      "metadata": {
        "colab": {
          "base_uri": "https://localhost:8080/",
          "height": 713
        },
        "id": "KvAReOnjB1X_",
        "outputId": "0145cf3f-526d-40ec-bd6a-8ef6e423d518"
      },
      "execution_count": null,
      "outputs": [
        {
          "output_type": "stream",
          "name": "stdout",
          "text": [
            "Feature: 0, Score: 0.05566\n",
            "Feature: 1, Score: 0.32304\n",
            "Feature: 2, Score: 0.09027\n",
            "Feature: 3, Score: 0.02201\n",
            "Feature: 4, Score: 0.02852\n",
            "Feature: 5, Score: 0.23883\n",
            "Feature: 6, Score: 0.12766\n",
            "Feature: 7, Score: 0.11401\n"
          ]
        },
        {
          "output_type": "display_data",
          "data": {
            "text/plain": [
              "<Figure size 1200x800 with 1 Axes>"
            ],
            "image/png": "[encoded data removed]"
          },
          "metadata": {
            "needs_background": "light"
          }
        }
      ]
    },
    {
      "cell_type": "markdown",
      "source": [
        "resposta:\n",
        "*É possível perceber que uma Glicose e um BMI altos, são os principais fatores para uma pessoa desenvolver diabetes, contudo também é possível observar que alguns atributos como o SkinThickness tem uma relevância muito baixa nesse modelo, isso pode significar que ele não se caracteriza como um fator de risco, mas pode aparecer em pessoas que possuem diabetes.*"
      ],
      "metadata": {
        "id": "_svSIKLnRRdI"
      }
    },
    {
      "cell_type": "markdown",
      "source": [
        "## Questão 9. (1 ponto)\n",
        "## Explique o problema XOR e o perceptron clássico e a importância de ambos para o desenvolvimento da área de redes neurais.\n",
        "\n",
        "resposta:\n",
        "*O problema XOR (Exclusive or) é um problema classico que consiste em utilizar uma rede neural para predizer as saídas de portões XOR dadas duas entradas binárias. O problema XOR é um problema de classificação no qual as saídas esperadas são sabidas anteriormente. Logo, é recomendado a utilização de aprendizagem supervisionada para a solução. A primeira vista o problema XOR parece ser de solução simples, entretanto, para as arquiteturas de redes neurais dos anos 1960, os perceptrons, este era considerado um grande problema. A arquitetura de um perceptron inclui uma camada de unidades de entrada (incluindo a unidade bias) e uma única unidade de saída. O perceptron é um tipo de rede feed-forward, na qual a propagação da informação corre apenas em uma direção (da camada de entrada para a de saída). Nesse tipo de arquitetura não há conexações entre as unidades da camada de entrada e todas as unidades da camada de entrada são conectadas a camada de saída. Essa arquitetura apresenta uma limitação pois ela só é capaz de separar dados entre uma linha. Para o problema XOR as entradas não são capazes de serem linearmente separáveis. A solução para esse problema foi expandir a arquitetura do perceptrons para uma arquitetura multi-camadas. Foi adicionada a camada de unidades que não tem acesso a unidade de saída, que ficou conhecida como camada oculta (hidden layer). Essa arquitetura, por ser mais complexa que o perceptron classicom com os valores certos para pesos e bias pode conseguir atingir uma separação não linear, podendo assim classificar corretamente as entradas do problema XOR.*"
      ],
      "metadata": {
        "id": "ukkoJX0DHSwc"
      }
    },
    {
      "cell_type": "markdown",
      "source": [
        "## Questão 10 (3 pontos).\n",
        "## A) Complete o código abaixo criando 4 classificadores. Sendo eles um perceptron clássico e os outros 3 sendo multilayer perceptrons. Para cada um dos multilayer perceptron, escolha um valor diferente para os seguintes atributos: \n",
        " \n",
        "*   Camadas ocultas;\n",
        "*   Função de ativação;\n",
        "*   Otimizador.\n",
        " \n",
        "## B) Escolha um método de avaliação para os classificadores e compare o desempenho de cada um.\n",
        "\n",
        "Links úteis:\n",
        "* https://scikit-learn.org/stable/modules/generated/sklearn.neural_network.MLPClassifier.html\n",
        "* https://scikit-learn.org/stable/modules/generated/sklearn.linear_model.Perceptron.html"
      ],
      "metadata": {
        "id": "Ic_WMbgpLRBx"
      }
    },
    {
      "cell_type": "code",
      "source": [
        "from sklearn.datasets import load_digits\n",
        "from sklearn.linear_model import Perceptron\n",
        "from sklearn.neural_network import MLPClassifier\n",
        "\n",
        "\n",
        "X, y = load_digits(return_X_y = True)\n",
        "\n",
        "#Complete o codigo\n",
        "\n",
        "X_train, X_test, y_train, y_test = train_test_split(X, y, test_size=0.4, random_state=42, stratify=y)\n",
        "\n",
        "\n",
        "perceptron = Perceptron(tol =1e-3, random_state = 0)\n",
        "perceptron.fit(X_train, y_train)\n",
        "print(f\"Acurácia Perceptron: {perceptron.score(X_test, y_test)}\")\n",
        "print(\"-----------------------------------------------------------------\") \n",
        "\n",
        "#1\n",
        "\n",
        "mlp1 = MLPClassifier(hidden_layer_sizes=(100,), activation = 'relu', solver = 'adam')\n",
        "mlp1.fit(X_train, y_train)\n",
        "print(f'Acurácia da primeira MLP: {mlp1.score(X_test,y_test)}')\n",
        "print(\"-----------------------------------------------------------------\")\n",
        "\n",
        "#2\n",
        "\n",
        "mlp2 = MLPClassifier(hidden_layer_sizes=(100,100), activation = 'tanh', solver = 'lbfgs')\n",
        "mlp2.fit(X_train, y_train)\n",
        "print(f'Acurácia da segunda MLP: {mlp2.score(X_test,y_test)}')\n",
        "print(\"-----------------------------------------------------------------\")\n",
        "\n",
        "#3\n",
        "\n",
        "mlp3 = MLPClassifier(hidden_layer_sizes=(50,50, 50), activation = 'identity', solver = 'sgd')\n",
        "mlp3.fit(X_train, y_train)\n",
        "print(f'Acurácia da terceira MLP: {mlp3.score(X_test,y_test)}')\n",
        "\n"
      ],
      "metadata": {
        "id": "pDTP4JxXK3kb",
        "colab": {
          "base_uri": "https://localhost:8080/"
        },
        "outputId": "46b0dc1e-1d20-44b8-e88d-ecd4c39c7c7a"
      },
      "execution_count": null,
      "outputs": [
        {
          "output_type": "stream",
          "name": "stdout",
          "text": [
            "Acurácia Perceptron: 0.9207232267037552\n",
            "-----------------------------------------------------------------\n",
            "Acurácia da primeira MLP: 0.9652294853963839\n",
            "-----------------------------------------------------------------\n",
            "Acurácia da segunda MLP: 0.9707927677329624\n",
            "-----------------------------------------------------------------\n",
            "Acurácia da terceira MLP: 0.9318497913769124\n"
          ]
        }
      ]
    }
  ]
}