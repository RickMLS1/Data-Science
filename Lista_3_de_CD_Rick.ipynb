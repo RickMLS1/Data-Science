{
  "nbformat": 4,
  "nbformat_minor": 0,
  "metadata": {
    "colab": {
      "provenance": [],
      "collapsed_sections": [
        "uGxxl9EMJTav"
      ],
      "include_colab_link": true
    },
    "kernelspec": {
      "name": "python3",
      "display_name": "Python 3"
    },
    "language_info": {
      "name": "python"
    }
  },
  "cells": [
    {
      "cell_type": "markdown",
      "metadata": {
        "id": "view-in-github",
        "colab_type": "text"
      },
      "source": [
        "<a href=\"https://colab.research.google.com/github/RickMLS1/Data-Science/blob/main/Lista_3_de_CD_Rick.ipynb\" target=\"_parent\"><img src=\"https://colab.research.google.com/assets/colab-badge.svg\" alt=\"Open In Colab\"/></a>"
      ]
    },
    {
      "cell_type": "code",
      "source": [
        "import numpy as np\n",
        "import pandas as pd\n",
        "import matplotlib.pyplot as plt\n",
        "from statsmodels.tsa.seasonal import seasonal_decompose\n",
        "%matplotlib inline"
      ],
      "metadata": {
        "id": "gi5e6wb6EDX1"
      },
      "execution_count": 44,
      "outputs": []
    },
    {
      "cell_type": "markdown",
      "source": [
        "# **Questão 1 (2 pontos)**\n",
        "\n",
        "\n",
        "---\n",
        "\n",
        "\n",
        "\n",
        "Colete 2 bases de dados diferentes na internet e utilize a biblioteca *pymfe* para extrair as metafeatures de cada uma, depois calcule a distância euclidiana de cada base e mostre quais são as mais próximas.\n",
        "\n",
        "\n",
        "\n",
        "Dica: utilize sites como o openML e o kaggle para obter as bases de dados e olhe a documentação da biblioteca em https://pypi.org/project/pymfe/"
      ],
      "metadata": {
        "id": "viiDx-tN4eae"
      }
    },
    {
      "cell_type": "code",
      "source": [
        "!pip install pymfe"
      ],
      "metadata": {
        "id": "-SulK5daJxX0"
      },
      "execution_count": null,
      "outputs": []
    },
    {
      "cell_type": "markdown",
      "source": [
        "\n",
        "\n",
        "*   EPL 21/22 DATASET\n",
        "    https://www.kaggle.com/datasets/azminetoushikwasi/epl-21-22-matches-players\n",
        "\n",
        "\n"
      ],
      "metadata": {
        "id": "YIp_L40nKEu2"
      }
    },
    {
      "cell_type": "code",
      "source": [
        "from pymfe.mfe import MFE\n",
        "import warnings\n",
        "warnings.filterwarnings(\"ignore\")\n",
        "\n",
        "data = pd.read_csv('all_players_stats.csv')\n",
        "data = np.array(data)\n",
        "\n",
        "mfe = MFE()\n",
        "mfe.fit(data)\n",
        "ft1 = mfe.extract()\n",
        "print(\"\\n\".join(\"{:50} {:30}\".format(x, y) for x, y in zip(ft1[0], ft1[1])))"
      ],
      "metadata": {
        "colab": {
          "base_uri": "https://localhost:8080/"
        },
        "id": "HQJeZGI6KDf0",
        "outputId": "48ba7581-646b-4f51-8db3-16a333bfc085"
      },
      "execution_count": null,
      "outputs": [
        {
          "output_type": "stream",
          "name": "stdout",
          "text": [
            "attr_conc.mean                                                 0.1370368723483866\n",
            "attr_conc.sd                                                  0.28799649530864097\n",
            "attr_ent.mean                                                  3.0370849101437702\n",
            "attr_ent.sd                                                    2.4902577225245164\n",
            "attr_to_inst                                                 0.016051364365971106\n",
            "cat_to_num                                                    0.42857142857142855\n",
            "cor.mean                                                    0.0036338226346743115\n",
            "cor.sd                                                       0.012981365743756591\n",
            "cov.mean                                                    0.0014596689964956582\n",
            "cov.sd                                                        0.29195911433071564\n",
            "eigenvalues.mean                                               0.9236474261163542\n",
            "eigenvalues.sd                                                  17.45705502460796\n",
            "g_mean.mean                                                  0.023831093714489958\n",
            "g_mean.sd                                                      0.6057037096206416\n",
            "h_mean.mean                                                  0.013146939189634641\n",
            "h_mean.sd                                                      0.3341495750351098\n",
            "inst_to_attr                                                                 62.3\n",
            "iq_range.mean                                                 0.09210526315789473\n",
            "iq_range.sd                                                    1.3045951802192612\n",
            "kurtosis.mean                                                   580.8241240260078\n",
            "kurtosis.sd                                                    135.94955639062013\n",
            "mad.mean                                                      0.06426130030959752\n",
            "mad.sd                                                         0.9354705697851325\n",
            "max.mean                                                       1.3452012383900929\n",
            "max.sd                                                         4.5935614063108865\n",
            "mean.mean                                                     0.08018973408405353\n",
            "mean.sd                                                        1.1299617958838835\n",
            "median.mean                                                   0.06191950464396285\n",
            "median.sd                                                      0.9576482983214107\n",
            "min.mean                                                    0.0015479876160990713\n",
            "min.sd                                                       0.039344473768231684\n",
            "nr_attr                                                                        10\n",
            "nr_bin                                                                          0\n",
            "nr_cat                                                                          3\n",
            "nr_cor_attr                                                 2.399980800153599e-05\n",
            "nr_inst                                                                       623\n",
            "nr_norm                                                                       0.0\n",
            "nr_num                                                                          7\n",
            "nr_outliers                                                                   644\n",
            "num_to_cat                                                     2.3333333333333335\n",
            "range.mean                                                     1.3436532507739938\n",
            "range.sd                                                        4.561332081091791\n",
            "sd.mean                                                       0.11820445744697486\n",
            "sd.sd                                                          0.9545079786981531\n",
            "skewness.mean                                                   23.65663094774153\n",
            "skewness.sd                                                    4.7175030467179235\n",
            "sparsity.mean                                                 0.07956048398258023\n",
            "sparsity.sd                                                   0.09771477253888924\n",
            "t_mean.mean                                                   0.06201857585139319\n",
            "t_mean.sd                                                      0.9605205097296655\n",
            "var.mean                                                       0.9236474261163554\n",
            "var.sd                                                         15.801346071288373\n"
          ]
        }
      ]
    },
    {
      "cell_type": "markdown",
      "source": [
        "\n",
        "*   Cristiano Ronaldo | All Club Goals\n",
        "\n",
        "\n",
        "\n",
        "https://www.kaggle.com/datasets/azminetoushikwasi/cr7-cristiano-ronaldo-all-club-goals-stats\n",
        "\n"
      ],
      "metadata": {
        "id": "d2aA9VLcK7l1"
      }
    },
    {
      "cell_type": "code",
      "source": [
        "data = pd.read_csv('data.csv')\n",
        "data = data.dropna()\n",
        "data = np.array(data)\n",
        "\n",
        "mfe = MFE()\n",
        "mfe.fit(data)\n",
        "ft2 = mfe.extract()\n",
        "print(\"\\n\".join(\"{:50} {:30}\".format(x, y) for x, y in zip(ft2[0], ft2[1])))"
      ],
      "metadata": {
        "colab": {
          "base_uri": "https://localhost:8080/"
        },
        "id": "5bdKvFhKK7Mb",
        "outputId": "dc1305c2-74f1-4893-a57b-abee69548a32"
      },
      "execution_count": null,
      "outputs": [
        {
          "output_type": "stream",
          "name": "stdout",
          "text": [
            "attr_conc.mean                                                0.23502732832863846\n",
            "attr_conc.sd                                                  0.27646783934588065\n",
            "attr_ent.mean                                                   4.002646440439726\n",
            "attr_ent.sd                                                      2.32499420544497\n",
            "attr_to_inst                                                 0.030952380952380953\n",
            "cat_to_num                                                                    nan\n",
            "cor.mean                                                      0.01448562358761528\n",
            "cor.sd                                                       0.046088511797568586\n",
            "cov.mean                                                    0.0002320424632267333\n",
            "cov.sd                                                      0.0011122075180375036\n",
            "eigenvalues.mean                                             0.012895707145900789\n",
            "eigenvalues.sd                                                0.04114431712294254\n",
            "g_mean.mean                                                                   nan\n",
            "g_mean.sd                                                                     nan\n",
            "h_mean.mean                                                                   0.0\n",
            "h_mean.sd                                                                     0.0\n",
            "inst_to_attr                                                    32.30769230769231\n",
            "iq_range.mean                                                0.006596306068601583\n",
            "iq_range.sd                                                   0.08100278441368627\n",
            "kurtosis.mean                                                  230.98485384153977\n",
            "kurtosis.sd                                                    159.48887061657848\n",
            "mad.mean                                                                      0.0\n",
            "mad.sd                                                                        0.0\n",
            "max.mean                                                                      1.0\n",
            "max.sd                                                                        0.0\n",
            "mean.mean                                                     0.01567722075637643\n",
            "mean.sd                                                      0.050693517387119046\n",
            "median.mean                                                   0.00395778364116095\n",
            "median.sd                                                     0.06282775776208725\n",
            "min.mean                                                                      0.0\n",
            "min.sd                                                                        0.0\n",
            "nr_attr                                                                        13\n",
            "nr_bin                                                                          1\n",
            "nr_cat                                                                         13\n",
            "nr_cor_attr                                                 0.0016486408298275028\n",
            "nr_inst                                                                       420\n",
            "nr_norm                                                                       0.0\n",
            "nr_num                                                                          0\n",
            "nr_outliers                                                                   753\n",
            "num_to_cat                                                                    0.0\n",
            "range.mean                                                                    1.0\n",
            "range.sd                                                                      0.0\n",
            "sd.mean                                                       0.09230702993075816\n",
            "sd.sd                                                         0.06618835940927216\n",
            "skewness.mean                                                  14.027638630575456\n",
            "skewness.sd                                                     5.975561451626845\n",
            "sparsity.mean                                                 0.10034299048154013\n",
            "sparsity.sd                                                    0.1440637039378732\n",
            "t_mean.mean                                                 0.0042509527997654645\n",
            "t_mean.sd                                                     0.05081110904340811\n",
            "var.mean                                                      0.01289570714590078\n",
            "var.sd                                                       0.026728156588302226\n"
          ]
        }
      ]
    },
    {
      "cell_type": "markdown",
      "source": [
        "Calculando distância Euclidiana"
      ],
      "metadata": {
        "id": "liZr7LyyL6hj"
      }
    },
    {
      "cell_type": "code",
      "source": [
        "import numpy as np\n",
        "from scipy.spatial.distance import cdist, squareform\n",
        "\n",
        "ft1 = np.array(ft1[1])\n",
        "ft2 = np.array(ft2[1])\n",
        "\n",
        "print(f'Distância euclidiana entre o dataset EPL 21/22 e o dataset Cristiano Ronaldo: {np.sqrt(np.nansum((ft1[1]-ft2[1])**2))}')"
      ],
      "metadata": {
        "colab": {
          "base_uri": "https://localhost:8080/"
        },
        "id": "lN6rjeulMCsD",
        "outputId": "c843253c-bd18-40b7-f97e-f8d0d85ec36a"
      },
      "execution_count": 52,
      "outputs": [
        {
          "output_type": "stream",
          "name": "stdout",
          "text": [
            "Distância euclidiana entre o dataset EPL 21/22 e o dataset Cristiano Ronaldo: 0.011528655962760315\n"
          ]
        }
      ]
    },
    {
      "cell_type": "markdown",
      "source": [
        "# **Questão 2 (0,5 ponto)**\n",
        "\n",
        "\n",
        "\n",
        "---\n",
        "\n",
        "\n",
        "Qual a importância de usar as metafeatures para obter informações das bases de dados durante o processo de recomendação de algoritmos?"
      ],
      "metadata": {
        "id": "2sNJNsws4sBM"
      }
    },
    {
      "cell_type": "markdown",
      "source": [
        "*É importante a utilização das metafeatures pois com elas podemos entender melhor o dataset com o qual estamos trabalhando, entender melhor seu viés de aprendizado ajuda na criação de sistemas de recomendação ou de datamining*"
      ],
      "metadata": {
        "id": "MP0gkYByACIW"
      }
    },
    {
      "cell_type": "markdown",
      "source": [
        "# **Questão 3 (0,5 ponto)**\n",
        "\n",
        "\n",
        "\n",
        "---\n",
        "\n",
        "\n",
        "\n",
        "Explique como o SVM utiliza o Kernel Trick."
      ],
      "metadata": {
        "id": "tWOvaDSD4wcr"
      }
    },
    {
      "cell_type": "markdown",
      "source": [
        "*Para que possamos treinar um svm para classificação temos que fazer operações com vetores que possuem muitas dimensões, e, no mundo real, pode acontecer de termos atributos que para aplicarmos transformações seriam necessárias várias combinações polinomias o que levaria a um custo computacional bastante elevado. O kernel trick nos dá uma solução para esse tipo de problema. Basicamente, os métodos do kernel representam os dados através de comparações de pares de similaridade entre os dados reais, que tem as coordenadas originais do espaço de dimensão menor, ao invés de explicitamente aplicar transformações e representar esses dados por essas coordenadas transformadas no feature space de maior dimensão. O principal benefício do kernel trick é que a função objetiva que estamos otimizando para ajustar o meio de decisão do espaço de dimensão maior só inclui produtos escalares dos vetores transformados dos atributos. Ou seja, nos podemos substituir esses produtos escalares pela função do kernel.*"
      ],
      "metadata": {
        "id": "qfhOYlk_ALSO"
      }
    },
    {
      "cell_type": "markdown",
      "source": [
        "# **Questão 4 (0,5 ponto)**\n",
        "\n",
        "\n",
        "---\n",
        "\n",
        "\n",
        "\n",
        "Como os hiperparâmetros C, Gamma e Kernel influenciam no funcionamento e interpretação do SVM ?"
      ],
      "metadata": {
        "id": "PgxpY9ra42y_"
      }
    },
    {
      "cell_type": "markdown",
      "source": [
        "*Ao se treinar um SVM com a função de kernel RBF, o paramêtro c, que é comum a todos os kernels, é resposavel por escolher entre a classificação errada de exemplos de treinamento e a simplicidade da superfície de decisão. Um valor baixo de C faz com que a superfície de decisão seja suave, enquanto um valor alto de C tenta classificar todos os exemplos de treinamento corretamente. Já o paramêtro gama define quanta influência um exemplo de treinamento tem. Quanto maior o gamma é, mais perto outros exemplos serão afetados*"
      ],
      "metadata": {
        "id": "cvyVRahuA4Ju"
      }
    },
    {
      "cell_type": "markdown",
      "source": [
        "# **Questão 5 (1,5 ponto)**\n",
        "\n",
        "\n",
        "---\n",
        "\n",
        "\n",
        "\n",
        "Escolha uma base de dados de classificação de sua preferência e utilize o método Grid Search para encontrar os melhores hiperparametros do SVM para a base de dados."
      ],
      "metadata": {
        "id": "Oq3McZI948Fj"
      }
    },
    {
      "cell_type": "markdown",
      "source": [
        "**GRIND SEARCH**"
      ],
      "metadata": {
        "id": "3IlRW4opOXVr"
      }
    },
    {
      "cell_type": "code",
      "source": [
        "import pandas as pd\n",
        "import numpy as np\n",
        "from sklearn.metrics import classification_report, confusion_matrix\n",
        "from sklearn.datasets import load_digits\n",
        "from sklearn.svm import SVC\n",
        "from sklearn.model_selection import train_test_split\n",
        "from sklearn.model_selection import GridSearchCV\n",
        " \n",
        "\n",
        "#Lendo os dados\n",
        "digits = load_digits()\n",
        "\n",
        "X = pd.DataFrame(digits['data'],\n",
        "                      columns = digits['feature_names'])\n",
        " \n",
        "Y = pd.DataFrame(digits['target'],\n",
        "                   columns =['Digits'])\n",
        "\n",
        "\n",
        " \n",
        "X_train, X_test, y_train, y_test = train_test_split(\n",
        "                        X, np.ravel(Y),\n",
        "                test_size = 0.25, random_state = 42)\n",
        "\n",
        "\n",
        "# Definindo o range de parametros\n",
        "param_grid = {'C': [0.1, 1, 10, 100, 1000],\n",
        "              'gamma': [1, 0.1, 0.01, 0.001, 0.0001],\n",
        "              'kernel': ['rbf']}\n",
        " \n",
        "grid = GridSearchCV(SVC(), param_grid, refit = True, verbose = 3)\n",
        " \n",
        "# fitting\n",
        "grid.fit(X_train, y_train)\n",
        "\n",
        "# Melhores parametros\n",
        "print(grid.best_params_)"
      ],
      "metadata": {
        "colab": {
          "base_uri": "https://localhost:8080/"
        },
        "id": "YMm1gRwBOA2j",
        "outputId": "5c0e1158-4755-4f81-96d5-de601e911496"
      },
      "execution_count": 45,
      "outputs": [
        {
          "output_type": "stream",
          "name": "stdout",
          "text": [
            "Fitting 5 folds for each of 25 candidates, totalling 125 fits\n",
            "[CV 1/5] END ........C=0.1, gamma=1, kernel=rbf;, score=0.107 total time=   0.2s\n",
            "[CV 2/5] END ........C=0.1, gamma=1, kernel=rbf;, score=0.107 total time=   0.2s\n",
            "[CV 3/5] END ........C=0.1, gamma=1, kernel=rbf;, score=0.108 total time=   0.2s\n",
            "[CV 4/5] END ........C=0.1, gamma=1, kernel=rbf;, score=0.108 total time=   0.2s\n",
            "[CV 5/5] END ........C=0.1, gamma=1, kernel=rbf;, score=0.108 total time=   0.2s\n",
            "[CV 1/5] END ......C=0.1, gamma=0.1, kernel=rbf;, score=0.107 total time=   0.2s\n",
            "[CV 2/5] END ......C=0.1, gamma=0.1, kernel=rbf;, score=0.107 total time=   0.2s\n",
            "[CV 3/5] END ......C=0.1, gamma=0.1, kernel=rbf;, score=0.108 total time=   0.2s\n",
            "[CV 4/5] END ......C=0.1, gamma=0.1, kernel=rbf;, score=0.108 total time=   0.2s\n",
            "[CV 5/5] END ......C=0.1, gamma=0.1, kernel=rbf;, score=0.108 total time=   0.2s\n",
            "[CV 1/5] END .....C=0.1, gamma=0.01, kernel=rbf;, score=0.107 total time=   0.2s\n",
            "[CV 2/5] END .....C=0.1, gamma=0.01, kernel=rbf;, score=0.107 total time=   0.2s\n",
            "[CV 3/5] END .....C=0.1, gamma=0.01, kernel=rbf;, score=0.108 total time=   0.2s\n",
            "[CV 4/5] END .....C=0.1, gamma=0.01, kernel=rbf;, score=0.108 total time=   0.2s\n",
            "[CV 5/5] END .....C=0.1, gamma=0.01, kernel=rbf;, score=0.108 total time=   0.2s\n",
            "[CV 1/5] END ....C=0.1, gamma=0.001, kernel=rbf;, score=0.933 total time=   0.1s\n",
            "[CV 2/5] END ....C=0.1, gamma=0.001, kernel=rbf;, score=0.959 total time=   0.1s\n",
            "[CV 3/5] END ....C=0.1, gamma=0.001, kernel=rbf;, score=0.944 total time=   0.1s\n",
            "[CV 4/5] END ....C=0.1, gamma=0.001, kernel=rbf;, score=0.974 total time=   0.1s\n",
            "[CV 5/5] END ....C=0.1, gamma=0.001, kernel=rbf;, score=0.959 total time=   0.1s\n",
            "[CV 1/5] END ...C=0.1, gamma=0.0001, kernel=rbf;, score=0.856 total time=   0.2s\n",
            "[CV 2/5] END ...C=0.1, gamma=0.0001, kernel=rbf;, score=0.848 total time=   0.2s\n",
            "[CV 3/5] END ...C=0.1, gamma=0.0001, kernel=rbf;, score=0.885 total time=   0.2s\n",
            "[CV 4/5] END ...C=0.1, gamma=0.0001, kernel=rbf;, score=0.840 total time=   0.2s\n",
            "[CV 5/5] END ...C=0.1, gamma=0.0001, kernel=rbf;, score=0.822 total time=   0.2s\n",
            "[CV 1/5] END ..........C=1, gamma=1, kernel=rbf;, score=0.107 total time=   0.2s\n",
            "[CV 2/5] END ..........C=1, gamma=1, kernel=rbf;, score=0.107 total time=   0.2s\n",
            "[CV 3/5] END ..........C=1, gamma=1, kernel=rbf;, score=0.108 total time=   0.2s\n",
            "[CV 4/5] END ..........C=1, gamma=1, kernel=rbf;, score=0.108 total time=   0.2s\n",
            "[CV 5/5] END ..........C=1, gamma=1, kernel=rbf;, score=0.108 total time=   0.2s\n",
            "[CV 1/5] END ........C=1, gamma=0.1, kernel=rbf;, score=0.107 total time=   0.2s\n",
            "[CV 2/5] END ........C=1, gamma=0.1, kernel=rbf;, score=0.107 total time=   0.2s\n",
            "[CV 3/5] END ........C=1, gamma=0.1, kernel=rbf;, score=0.108 total time=   0.2s\n",
            "[CV 4/5] END ........C=1, gamma=0.1, kernel=rbf;, score=0.108 total time=   0.2s\n",
            "[CV 5/5] END ........C=1, gamma=0.1, kernel=rbf;, score=0.108 total time=   0.2s\n",
            "[CV 1/5] END .......C=1, gamma=0.01, kernel=rbf;, score=0.696 total time=   0.2s\n",
            "[CV 2/5] END .......C=1, gamma=0.01, kernel=rbf;, score=0.700 total time=   0.2s\n",
            "[CV 3/5] END .......C=1, gamma=0.01, kernel=rbf;, score=0.747 total time=   0.2s\n",
            "[CV 4/5] END .......C=1, gamma=0.01, kernel=rbf;, score=0.732 total time=   0.2s\n",
            "[CV 5/5] END .......C=1, gamma=0.01, kernel=rbf;, score=0.721 total time=   0.2s\n",
            "[CV 1/5] END ......C=1, gamma=0.001, kernel=rbf;, score=0.989 total time=   0.1s\n",
            "[CV 2/5] END ......C=1, gamma=0.001, kernel=rbf;, score=0.989 total time=   0.1s\n",
            "[CV 3/5] END ......C=1, gamma=0.001, kernel=rbf;, score=0.985 total time=   0.1s\n",
            "[CV 4/5] END ......C=1, gamma=0.001, kernel=rbf;, score=0.989 total time=   0.1s\n",
            "[CV 5/5] END ......C=1, gamma=0.001, kernel=rbf;, score=0.989 total time=   0.1s\n",
            "[CV 1/5] END .....C=1, gamma=0.0001, kernel=rbf;, score=0.959 total time=   0.1s\n",
            "[CV 2/5] END .....C=1, gamma=0.0001, kernel=rbf;, score=0.970 total time=   0.1s\n",
            "[CV 3/5] END .....C=1, gamma=0.0001, kernel=rbf;, score=0.959 total time=   0.1s\n",
            "[CV 4/5] END .....C=1, gamma=0.0001, kernel=rbf;, score=0.974 total time=   0.1s\n",
            "[CV 5/5] END .....C=1, gamma=0.0001, kernel=rbf;, score=0.967 total time=   0.1s\n",
            "[CV 1/5] END .........C=10, gamma=1, kernel=rbf;, score=0.107 total time=   0.2s\n",
            "[CV 2/5] END .........C=10, gamma=1, kernel=rbf;, score=0.107 total time=   0.2s\n",
            "[CV 3/5] END .........C=10, gamma=1, kernel=rbf;, score=0.108 total time=   0.2s\n",
            "[CV 4/5] END .........C=10, gamma=1, kernel=rbf;, score=0.108 total time=   0.2s\n",
            "[CV 5/5] END .........C=10, gamma=1, kernel=rbf;, score=0.108 total time=   0.2s\n",
            "[CV 1/5] END .......C=10, gamma=0.1, kernel=rbf;, score=0.107 total time=   0.2s\n",
            "[CV 2/5] END .......C=10, gamma=0.1, kernel=rbf;, score=0.107 total time=   0.2s\n",
            "[CV 3/5] END .......C=10, gamma=0.1, kernel=rbf;, score=0.108 total time=   0.2s\n",
            "[CV 4/5] END .......C=10, gamma=0.1, kernel=rbf;, score=0.108 total time=   0.2s\n",
            "[CV 5/5] END .......C=10, gamma=0.1, kernel=rbf;, score=0.108 total time=   0.2s\n",
            "[CV 1/5] END ......C=10, gamma=0.01, kernel=rbf;, score=0.711 total time=   0.2s\n",
            "[CV 2/5] END ......C=10, gamma=0.01, kernel=rbf;, score=0.730 total time=   0.2s\n",
            "[CV 3/5] END ......C=10, gamma=0.01, kernel=rbf;, score=0.762 total time=   0.2s\n",
            "[CV 4/5] END ......C=10, gamma=0.01, kernel=rbf;, score=0.751 total time=   0.2s\n",
            "[CV 5/5] END ......C=10, gamma=0.01, kernel=rbf;, score=0.736 total time=   0.2s\n",
            "[CV 1/5] END .....C=10, gamma=0.001, kernel=rbf;, score=0.993 total time=   0.1s\n",
            "[CV 2/5] END .....C=10, gamma=0.001, kernel=rbf;, score=0.989 total time=   0.1s\n",
            "[CV 3/5] END .....C=10, gamma=0.001, kernel=rbf;, score=0.981 total time=   0.1s\n",
            "[CV 4/5] END .....C=10, gamma=0.001, kernel=rbf;, score=0.989 total time=   0.1s\n",
            "[CV 5/5] END .....C=10, gamma=0.001, kernel=rbf;, score=0.993 total time=   0.1s\n",
            "[CV 1/5] END ....C=10, gamma=0.0001, kernel=rbf;, score=0.981 total time=   0.1s\n",
            "[CV 2/5] END ....C=10, gamma=0.0001, kernel=rbf;, score=0.978 total time=   0.0s\n",
            "[CV 3/5] END ....C=10, gamma=0.0001, kernel=rbf;, score=0.963 total time=   0.0s\n",
            "[CV 4/5] END ....C=10, gamma=0.0001, kernel=rbf;, score=0.985 total time=   0.1s\n",
            "[CV 5/5] END ....C=10, gamma=0.0001, kernel=rbf;, score=0.978 total time=   0.0s\n",
            "[CV 1/5] END ........C=100, gamma=1, kernel=rbf;, score=0.107 total time=   0.2s\n",
            "[CV 2/5] END ........C=100, gamma=1, kernel=rbf;, score=0.107 total time=   0.2s\n",
            "[CV 3/5] END ........C=100, gamma=1, kernel=rbf;, score=0.108 total time=   0.2s\n",
            "[CV 4/5] END ........C=100, gamma=1, kernel=rbf;, score=0.108 total time=   0.2s\n",
            "[CV 5/5] END ........C=100, gamma=1, kernel=rbf;, score=0.108 total time=   0.2s\n",
            "[CV 1/5] END ......C=100, gamma=0.1, kernel=rbf;, score=0.107 total time=   0.2s\n",
            "[CV 2/5] END ......C=100, gamma=0.1, kernel=rbf;, score=0.107 total time=   0.2s\n",
            "[CV 3/5] END ......C=100, gamma=0.1, kernel=rbf;, score=0.108 total time=   0.2s\n",
            "[CV 4/5] END ......C=100, gamma=0.1, kernel=rbf;, score=0.108 total time=   0.2s\n",
            "[CV 5/5] END ......C=100, gamma=0.1, kernel=rbf;, score=0.108 total time=   0.2s\n",
            "[CV 1/5] END .....C=100, gamma=0.01, kernel=rbf;, score=0.711 total time=   0.2s\n",
            "[CV 2/5] END .....C=100, gamma=0.01, kernel=rbf;, score=0.730 total time=   0.2s\n",
            "[CV 3/5] END .....C=100, gamma=0.01, kernel=rbf;, score=0.762 total time=   0.2s\n",
            "[CV 4/5] END .....C=100, gamma=0.01, kernel=rbf;, score=0.751 total time=   0.2s\n",
            "[CV 5/5] END .....C=100, gamma=0.01, kernel=rbf;, score=0.736 total time=   0.2s\n",
            "[CV 1/5] END ....C=100, gamma=0.001, kernel=rbf;, score=0.993 total time=   0.1s\n",
            "[CV 2/5] END ....C=100, gamma=0.001, kernel=rbf;, score=0.989 total time=   0.1s\n",
            "[CV 3/5] END ....C=100, gamma=0.001, kernel=rbf;, score=0.981 total time=   0.1s\n",
            "[CV 4/5] END ....C=100, gamma=0.001, kernel=rbf;, score=0.989 total time=   0.1s\n",
            "[CV 5/5] END ....C=100, gamma=0.001, kernel=rbf;, score=0.993 total time=   0.1s\n",
            "[CV 1/5] END ...C=100, gamma=0.0001, kernel=rbf;, score=0.981 total time=   0.1s\n",
            "[CV 2/5] END ...C=100, gamma=0.0001, kernel=rbf;, score=0.978 total time=   0.0s\n",
            "[CV 3/5] END ...C=100, gamma=0.0001, kernel=rbf;, score=0.970 total time=   0.1s\n",
            "[CV 4/5] END ...C=100, gamma=0.0001, kernel=rbf;, score=0.981 total time=   0.0s\n",
            "[CV 5/5] END ...C=100, gamma=0.0001, kernel=rbf;, score=0.974 total time=   0.0s\n",
            "[CV 1/5] END .......C=1000, gamma=1, kernel=rbf;, score=0.107 total time=   0.2s\n",
            "[CV 2/5] END .......C=1000, gamma=1, kernel=rbf;, score=0.107 total time=   0.2s\n",
            "[CV 3/5] END .......C=1000, gamma=1, kernel=rbf;, score=0.108 total time=   0.2s\n",
            "[CV 4/5] END .......C=1000, gamma=1, kernel=rbf;, score=0.108 total time=   0.2s\n",
            "[CV 5/5] END .......C=1000, gamma=1, kernel=rbf;, score=0.108 total time=   0.2s\n",
            "[CV 1/5] END .....C=1000, gamma=0.1, kernel=rbf;, score=0.107 total time=   0.2s\n",
            "[CV 2/5] END .....C=1000, gamma=0.1, kernel=rbf;, score=0.107 total time=   0.2s\n",
            "[CV 3/5] END .....C=1000, gamma=0.1, kernel=rbf;, score=0.108 total time=   0.2s\n",
            "[CV 4/5] END .....C=1000, gamma=0.1, kernel=rbf;, score=0.108 total time=   0.2s\n",
            "[CV 5/5] END .....C=1000, gamma=0.1, kernel=rbf;, score=0.108 total time=   0.2s\n",
            "[CV 1/5] END ....C=1000, gamma=0.01, kernel=rbf;, score=0.711 total time=   0.2s\n",
            "[CV 2/5] END ....C=1000, gamma=0.01, kernel=rbf;, score=0.730 total time=   0.2s\n",
            "[CV 3/5] END ....C=1000, gamma=0.01, kernel=rbf;, score=0.762 total time=   0.2s\n",
            "[CV 4/5] END ....C=1000, gamma=0.01, kernel=rbf;, score=0.751 total time=   0.2s\n",
            "[CV 5/5] END ....C=1000, gamma=0.01, kernel=rbf;, score=0.736 total time=   0.2s\n",
            "[CV 1/5] END ...C=1000, gamma=0.001, kernel=rbf;, score=0.993 total time=   0.1s\n",
            "[CV 2/5] END ...C=1000, gamma=0.001, kernel=rbf;, score=0.989 total time=   0.1s\n",
            "[CV 3/5] END ...C=1000, gamma=0.001, kernel=rbf;, score=0.981 total time=   0.1s\n",
            "[CV 4/5] END ...C=1000, gamma=0.001, kernel=rbf;, score=0.989 total time=   0.1s\n",
            "[CV 5/5] END ...C=1000, gamma=0.001, kernel=rbf;, score=0.993 total time=   0.1s\n",
            "[CV 1/5] END ..C=1000, gamma=0.0001, kernel=rbf;, score=0.981 total time=   0.1s\n",
            "[CV 2/5] END ..C=1000, gamma=0.0001, kernel=rbf;, score=0.978 total time=   0.0s\n",
            "[CV 3/5] END ..C=1000, gamma=0.0001, kernel=rbf;, score=0.970 total time=   0.0s\n",
            "[CV 4/5] END ..C=1000, gamma=0.0001, kernel=rbf;, score=0.981 total time=   0.1s\n",
            "[CV 5/5] END ..C=1000, gamma=0.0001, kernel=rbf;, score=0.974 total time=   0.0s\n",
            "{'C': 10, 'gamma': 0.001, 'kernel': 'rbf'}\n"
          ]
        }
      ]
    },
    {
      "cell_type": "markdown",
      "source": [
        "**MELHORES PARAMETROS**"
      ],
      "metadata": {
        "id": "7D3GCyeDOcca"
      }
    },
    {
      "cell_type": "code",
      "source": [
        "grid_predictions = grid.predict(X_test)\n",
        "\n",
        "print(classification_report(y_test, grid_predictions))"
      ],
      "metadata": {
        "colab": {
          "base_uri": "https://localhost:8080/"
        },
        "id": "BAqfDrrZOk16",
        "outputId": "afa14bcb-c15f-46a9-c9b8-10676bc9f608"
      },
      "execution_count": 46,
      "outputs": [
        {
          "output_type": "stream",
          "name": "stdout",
          "text": [
            "              precision    recall  f1-score   support\n",
            "\n",
            "           0       1.00      1.00      1.00        43\n",
            "           1       1.00      1.00      1.00        37\n",
            "           2       1.00      1.00      1.00        38\n",
            "           3       1.00      0.96      0.98        46\n",
            "           4       1.00      1.00      1.00        55\n",
            "           5       0.98      1.00      0.99        59\n",
            "           6       1.00      1.00      1.00        45\n",
            "           7       0.98      0.98      0.98        41\n",
            "           8       0.97      1.00      0.99        38\n",
            "           9       0.98      0.98      0.98        48\n",
            "\n",
            "    accuracy                           0.99       450\n",
            "   macro avg       0.99      0.99      0.99       450\n",
            "weighted avg       0.99      0.99      0.99       450\n",
            "\n"
          ]
        }
      ]
    },
    {
      "cell_type": "markdown",
      "source": [
        "# **Questão 6 (1 ponto)**\n",
        "\n",
        "\n",
        "---"
      ],
      "metadata": {
        "id": "uGxxl9EMJTav"
      }
    },
    {
      "cell_type": "markdown",
      "source": [
        "![visualizacao_dados1.png](data:image/png;base64,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)\n",
        "\n",
        "\n",
        "Tendo como base a imagem acima, essa é uma boa representação desse tipo de dado? Descreva como essa forma de visualização de dados pode ser comparada com um gráfico semelhante de barras.\n",
        "\n",
        "(Obs: Os valores utilizados das coordenadas são do valor médio de ano de lançamento e ano de adição à Netflix.)\n",
        "\n",
        "---\n",
        "\n",
        "**Base de dados e gráficos utilizados:** [Netflix Data Visualization](https://www.kaggle.com/code/joshuaswords/netflix-data-visualization/notebook)\n"
      ],
      "metadata": {
        "id": "XQZnzXG-cR_m"
      }
    },
    {
      "cell_type": "markdown",
      "source": [
        "*Esse tipo de representação é bastante informativa pois mostra através do tempo como esse dado se comporta, no caso de um gráfico de barras a representação estaria mais relacionada com a grandeza da quantidade, já nesse tipo de vizualização podemos perceber claramente a passagem de tempo e fazer análises em cima dela.*"
      ],
      "metadata": {
        "id": "iL9UpbfqBQT1"
      }
    },
    {
      "cell_type": "markdown",
      "source": [
        "# **Questão 7 (0,5 ponto)**\n",
        "\n",
        "\n",
        "---\n",
        "\n",
        "A partir da questão anterior, quais conclusões podemos tirar a partir de uma análise desse gráfico?"
      ],
      "metadata": {
        "id": "6KnwdRVTWBQf"
      }
    },
    {
      "cell_type": "markdown",
      "source": [
        "*Podemos perceber que, dos países analisados, a Espanha é o que possui filmes recém lançados sendo colocados na Netflix mais rapidamente, seguido de Canadá e México. Uma análise possível seria que países como Egito e India possuem primariamente em seu catálogo filmes mais antigos, enquanto os 3 países citados anteriormente possuem mais filmes recentemente lançados.*"
      ],
      "metadata": {
        "id": "utJj9WWMBpF-"
      }
    },
    {
      "cell_type": "markdown",
      "source": [
        "# **Questão 8 (1,5 ponto)**\n",
        "\n",
        "\n",
        "---\n",
        "\n"
      ],
      "metadata": {
        "id": "TCz25d8cWrVb"
      }
    },
    {
      "cell_type": "markdown",
      "source": [
        "Elabore um Diagrama de Pareto com a base `videogame_sales.csv`.\n",
        "\n",
        "Utilize 2 colunas desejadas entre `Developer`, `Rating`, `Publisher` e `Genre` com os valores desejados e faça uma avaliação a partir do seu diagrama gerado.\n",
        "\n",
        "Por exemplo, avalie a coluna `Developer` a partir do `Rating == E`.\n",
        "\n",
        "**Obs: recomendado utilizar só uma pequena porção dos dados. Como no exemplo acima, utilizar somente os 10 `Developers` mais frequentes na base com `Rating == E` ao invés de todos.**\n",
        "\n",
        "**Para mais informações sobre como esse diagrama funciona, aqui vão alguns lins:**\n",
        "\n",
        "* [Diagrama de Pareto](https://ferramentasdaqualidade.org/diagrama-de-pareto/)\n",
        "* [Gestão de processos - O que é um Diagrama de Pareto? [Com exemplos]](https://blog.zeev.it/diagrama-de-pareto/)\n",
        "* [Diagrama de Pareto - Wikipédia](https://pt.wikipedia.org/wiki/Diagrama_de_Pareto)"
      ],
      "metadata": {
        "id": "HhVkGlBhcir2"
      }
    },
    {
      "cell_type": "code",
      "source": [
        "data = pd.read_csv(\"videogame_sales.csv\")\n",
        "columns = ['Rating', 'Genre']\n",
        "data = data[columns]\n",
        "data = data.dropna()\n",
        "data = data[data['Rating'] == 'M']\n",
        "data"
      ],
      "metadata": {
        "colab": {
          "base_uri": "https://localhost:8080/",
          "height": 424
        },
        "id": "1D-45Bp3DoOF",
        "outputId": "d05e402f-6e5a-490c-d9c0-1066d095deba"
      },
      "execution_count": null,
      "outputs": [
        {
          "output_type": "execute_result",
          "data": {
            "text/plain": [
              "      Rating      Genre\n",
              "16         M     Action\n",
              "17         M     Action\n",
              "23         M     Action\n",
              "24         M     Action\n",
              "29         M    Shooter\n",
              "...      ...        ...\n",
              "16622      M  Adventure\n",
              "16651      M     Action\n",
              "16676      M     Action\n",
              "16677      M   Fighting\n",
              "16696      M     Action\n",
              "\n",
              "[1563 rows x 2 columns]"
            ],
            "text/html": [
              "\n",
              "  <div id=\"df-14ea3de9-9a1f-4826-8ce0-25b12239e274\">\n",
              "    <div class=\"colab-df-container\">\n",
              "      <div>\n",
              "<style scoped>\n",
              "    .dataframe tbody tr th:only-of-type {\n",
              "        vertical-align: middle;\n",
              "    }\n",
              "\n",
              "    .dataframe tbody tr th {\n",
              "        vertical-align: top;\n",
              "    }\n",
              "\n",
              "    .dataframe thead th {\n",
              "        text-align: right;\n",
              "    }\n",
              "</style>\n",
              "<table border=\"1\" class=\"dataframe\">\n",
              "  <thead>\n",
              "    <tr style=\"text-align: right;\">\n",
              "      <th></th>\n",
              "      <th>Rating</th>\n",
              "      <th>Genre</th>\n",
              "    </tr>\n",
              "  </thead>\n",
              "  <tbody>\n",
              "    <tr>\n",
              "      <th>16</th>\n",
              "      <td>M</td>\n",
              "      <td>Action</td>\n",
              "    </tr>\n",
              "    <tr>\n",
              "      <th>17</th>\n",
              "      <td>M</td>\n",
              "      <td>Action</td>\n",
              "    </tr>\n",
              "    <tr>\n",
              "      <th>23</th>\n",
              "      <td>M</td>\n",
              "      <td>Action</td>\n",
              "    </tr>\n",
              "    <tr>\n",
              "      <th>24</th>\n",
              "      <td>M</td>\n",
              "      <td>Action</td>\n",
              "    </tr>\n",
              "    <tr>\n",
              "      <th>29</th>\n",
              "      <td>M</td>\n",
              "      <td>Shooter</td>\n",
              "    </tr>\n",
              "    <tr>\n",
              "      <th>...</th>\n",
              "      <td>...</td>\n",
              "      <td>...</td>\n",
              "    </tr>\n",
              "    <tr>\n",
              "      <th>16622</th>\n",
              "      <td>M</td>\n",
              "      <td>Adventure</td>\n",
              "    </tr>\n",
              "    <tr>\n",
              "      <th>16651</th>\n",
              "      <td>M</td>\n",
              "      <td>Action</td>\n",
              "    </tr>\n",
              "    <tr>\n",
              "      <th>16676</th>\n",
              "      <td>M</td>\n",
              "      <td>Action</td>\n",
              "    </tr>\n",
              "    <tr>\n",
              "      <th>16677</th>\n",
              "      <td>M</td>\n",
              "      <td>Fighting</td>\n",
              "    </tr>\n",
              "    <tr>\n",
              "      <th>16696</th>\n",
              "      <td>M</td>\n",
              "      <td>Action</td>\n",
              "    </tr>\n",
              "  </tbody>\n",
              "</table>\n",
              "<p>1563 rows × 2 columns</p>\n",
              "</div>\n",
              "      <button class=\"colab-df-convert\" onclick=\"convertToInteractive('df-14ea3de9-9a1f-4826-8ce0-25b12239e274')\"\n",
              "              title=\"Convert this dataframe to an interactive table.\"\n",
              "              style=\"display:none;\">\n",
              "        \n",
              "  <svg xmlns=\"http://www.w3.org/2000/svg\" height=\"24px\"viewBox=\"0 0 24 24\"\n",
              "       width=\"24px\">\n",
              "    <path d=\"M0 0h24v24H0V0z\" fill=\"none\"/>\n",
              "    <path d=\"M18.56 5.44l.94 2.06.94-2.06 2.06-.94-2.06-.94-.94-2.06-.94 2.06-2.06.94zm-11 1L8.5 8.5l.94-2.06 2.06-.94-2.06-.94L8.5 2.5l-.94 2.06-2.06.94zm10 10l.94 2.06.94-2.06 2.06-.94-2.06-.94-.94-2.06-.94 2.06-2.06.94z\"/><path d=\"M17.41 7.96l-1.37-1.37c-.4-.4-.92-.59-1.43-.59-.52 0-1.04.2-1.43.59L10.3 9.45l-7.72 7.72c-.78.78-.78 2.05 0 2.83L4 21.41c.39.39.9.59 1.41.59.51 0 1.02-.2 1.41-.59l7.78-7.78 2.81-2.81c.8-.78.8-2.07 0-2.86zM5.41 20L4 18.59l7.72-7.72 1.47 1.35L5.41 20z\"/>\n",
              "  </svg>\n",
              "      </button>\n",
              "      \n",
              "  <style>\n",
              "    .colab-df-container {\n",
              "      display:flex;\n",
              "      flex-wrap:wrap;\n",
              "      gap: 12px;\n",
              "    }\n",
              "\n",
              "    .colab-df-convert {\n",
              "      background-color: #E8F0FE;\n",
              "      border: none;\n",
              "      border-radius: 50%;\n",
              "      cursor: pointer;\n",
              "      display: none;\n",
              "      fill: #1967D2;\n",
              "      height: 32px;\n",
              "      padding: 0 0 0 0;\n",
              "      width: 32px;\n",
              "    }\n",
              "\n",
              "    .colab-df-convert:hover {\n",
              "      background-color: #E2EBFA;\n",
              "      box-shadow: 0px 1px 2px rgba(60, 64, 67, 0.3), 0px 1px 3px 1px rgba(60, 64, 67, 0.15);\n",
              "      fill: #174EA6;\n",
              "    }\n",
              "\n",
              "    [theme=dark] .colab-df-convert {\n",
              "      background-color: #3B4455;\n",
              "      fill: #D2E3FC;\n",
              "    }\n",
              "\n",
              "    [theme=dark] .colab-df-convert:hover {\n",
              "      background-color: #434B5C;\n",
              "      box-shadow: 0px 1px 3px 1px rgba(0, 0, 0, 0.15);\n",
              "      filter: drop-shadow(0px 1px 2px rgba(0, 0, 0, 0.3));\n",
              "      fill: #FFFFFF;\n",
              "    }\n",
              "  </style>\n",
              "\n",
              "      <script>\n",
              "        const buttonEl =\n",
              "          document.querySelector('#df-14ea3de9-9a1f-4826-8ce0-25b12239e274 button.colab-df-convert');\n",
              "        buttonEl.style.display =\n",
              "          google.colab.kernel.accessAllowed ? 'block' : 'none';\n",
              "\n",
              "        async function convertToInteractive(key) {\n",
              "          const element = document.querySelector('#df-14ea3de9-9a1f-4826-8ce0-25b12239e274');\n",
              "          const dataTable =\n",
              "            await google.colab.kernel.invokeFunction('convertToInteractive',\n",
              "                                                     [key], {});\n",
              "          if (!dataTable) return;\n",
              "\n",
              "          const docLinkHtml = 'Like what you see? Visit the ' +\n",
              "            '<a target=\"_blank\" href=https://colab.research.google.com/notebooks/data_table.ipynb>data table notebook</a>'\n",
              "            + ' to learn more about interactive tables.';\n",
              "          element.innerHTML = '';\n",
              "          dataTable['output_type'] = 'display_data';\n",
              "          await google.colab.output.renderOutput(dataTable, element);\n",
              "          const docLink = document.createElement('div');\n",
              "          docLink.innerHTML = docLinkHtml;\n",
              "          element.appendChild(docLink);\n",
              "        }\n",
              "      </script>\n",
              "    </div>\n",
              "  </div>\n",
              "  "
            ]
          },
          "metadata": {},
          "execution_count": 3
        }
      ]
    },
    {
      "cell_type": "code",
      "source": [
        "data['Genre'].unique()"
      ],
      "metadata": {
        "colab": {
          "base_uri": "https://localhost:8080/"
        },
        "id": "Qs_dfuE6EB-H",
        "outputId": "f7cb09e3-c3fb-4973-b802-8e357ed06d55"
      },
      "execution_count": null,
      "outputs": [
        {
          "output_type": "execute_result",
          "data": {
            "text/plain": [
              "array(['Action', 'Shooter', 'Role-Playing', 'Adventure', 'Fighting',\n",
              "       'Racing', 'Platform', 'Sports', 'Misc', 'Strategy', 'Simulation'],\n",
              "      dtype=object)"
            ]
          },
          "metadata": {},
          "execution_count": 4
        }
      ]
    },
    {
      "cell_type": "code",
      "source": [
        "df = {'Action' : data[data['Genre'] == 'Action'].shape[0], 'Shooter': data[data['Genre'] == 'Shooter'].shape[0], 'Role-Playing': data[data['Genre'] =='Role-Playing'].shape[0], \n",
        "     'Adventure': data[data['Genre'] == 'Adventure'].shape[0], 'Fighting': data[data['Genre'] == 'Fighting'].shape[0],\n",
        "       'Racing': data[data['Genre'] == 'Racing'].shape[0], 'Platform': data[data['Genre'] == 'Platform'].shape[0], 'Sports': data[data['Genre'] == 'Sports'].shape[0]\n",
        "      ,'Misc' : data[data['Genre'] == 'Misc'].shape[0], 'Strategy': data[data['Genre'] == 'Strategy'].shape[0], 'Simulation': data[data['Genre'] == 'Simulation'].shape[0]}\n",
        "\n",
        "df = pd.DataFrame.from_dict(df, orient='index')\n",
        "df.columns= ['Genre']"
      ],
      "metadata": {
        "id": "pvrfdy04EWU2"
      },
      "execution_count": null,
      "outputs": []
    },
    {
      "cell_type": "code",
      "source": [
        "df = df.sort_values(by='Genre', ascending=False)\n",
        "\n",
        "\n",
        "df[\"cum_percentage\"] = round(df[\"Genre\"].cumsum()/df[\"Genre\"].sum()*100,2)"
      ],
      "metadata": {
        "id": "rnV2YrD4EbAF"
      },
      "execution_count": null,
      "outputs": []
    },
    {
      "cell_type": "code",
      "source": [
        "from matplotlib.ticker import PercentFormatter\n",
        "\n",
        "\n",
        "fig, ax = plt.subplots(figsize=(15,6))\n",
        "\n",
        "\n",
        "ax.bar(df.index, df[\"Genre\"])\n",
        "ax.set_title(\"Pareto Chart\")\n",
        "ax.set_xlabel(\"Gêneros de Games com classificação M\")\n",
        "ax.set_ylabel(\"Frequency\");\n",
        "\n",
        "\n",
        "ax2 = ax.twinx()\n",
        "ax2.plot(df.index, df[\"cum_percentage\"], color=\"red\", marker=\"D\", ms=7)\n",
        "ax2.axhline(80, color=\"orange\", linestyle=\"dashed\")\n",
        "ax2.yaxis.set_major_formatter(PercentFormatter())\n",
        "ax2.set_ylabel(\"Cumulative Percentage\");"
      ],
      "metadata": {
        "colab": {
          "base_uri": "https://localhost:8080/",
          "height": 366
        },
        "id": "0BrHme_nEgAM",
        "outputId": "370f949b-b166-4f63-d711-bb4a1d3049db"
      },
      "execution_count": null,
      "outputs": [
        {
          "output_type": "display_data",
          "data": {
            "text/plain": [
              "<Figure size 1080x432 with 2 Axes>"
            ],
            "image/png": "[encoded data removed]"
          },
          "metadata": {
            "needs_background": "light"
          }
        }
      ]
    },
    {
      "cell_type": "markdown",
      "source": [
        "# **Questão 9 (2 pontos)**\n",
        "\n",
        "\n",
        "---\n"
      ],
      "metadata": {
        "id": "6UbuE3FejsCN"
      }
    },
    {
      "cell_type": "markdown",
      "source": [
        "Usando a base de dados `sales_ts.csv`, quais conclusões podem ter tiradas de uma avaliação desses dados? Qual a sua tendência e sazonalidade?"
      ],
      "metadata": {
        "id": "i47nF4_Cj1My"
      }
    }
  ]
}